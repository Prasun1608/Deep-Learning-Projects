{
  "nbformat": 4,
  "nbformat_minor": 0,
  "metadata": {
    "colab": {
      "name": "Hyperparameter Tuning",
      "provenance": [],
      "collapsed_sections": [],
      "mount_file_id": "1K4wb_6FLgONYwnzrWV2UKW4N3TBwabpb",
      "authorship_tag": "ABX9TyPmzq0+jJ0WNGOUH91vTyfG",
      "include_colab_link": true
    },
    "kernelspec": {
      "name": "python3",
      "display_name": "Python 3"
    },
    "language_info": {
      "name": "python"
    }
  },
  "cells": [
    {
      "cell_type": "markdown",
      "metadata": {
        "id": "view-in-github",
        "colab_type": "text"
      },
      "source": [
        "<a href=\"https://colab.research.google.com/github/Prasun1608/Deep-Learning-Projects/blob/main/Hyperparameter_Tuning.ipynb\" target=\"_parent\"><img src=\"https://colab.research.google.com/assets/colab-badge.svg\" alt=\"Open In Colab\"/></a>"
      ]
    },
    {
      "cell_type": "markdown",
      "metadata": {
        "id": "FHNSYm3czOSG"
      },
      "source": [
        "**Importing Data and Libraries**"
      ]
    },
    {
      "cell_type": "code",
      "metadata": {
        "id": "z_mDgDZNgTJg"
      },
      "source": [
        "import pandas as pd"
      ],
      "execution_count": null,
      "outputs": []
    },
    {
      "cell_type": "code",
      "metadata": {
        "colab": {
          "resources": {
            "http://localhost:8080/nbextensions/google.colab/files.js": {
              "data": "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",
              "ok": true,
              "headers": [
                [
                  "content-type",
                  "application/javascript"
                ]
              ],
              "status": 200,
              "status_text": ""
            }
          },
          "base_uri": "https://localhost:8080/",
          "height": 73
        },
        "id": "lM0-8rOmvpxi",
        "outputId": "7314c401-42ce-4134-f810-dbaa0cbf7b80"
      },
      "source": [
        "from google.colab import files\n",
        "data = files.upload()"
      ],
      "execution_count": null,
      "outputs": [
        {
          "output_type": "display_data",
          "data": {
            "text/html": [
              "\n",
              "     <input type=\"file\" id=\"files-5dd0b908-2337-42e5-86eb-700d7e662cb4\" name=\"files[]\" multiple disabled\n",
              "        style=\"border:none\" />\n",
              "     <output id=\"result-5dd0b908-2337-42e5-86eb-700d7e662cb4\">\n",
              "      Upload widget is only available when the cell has been executed in the\n",
              "      current browser session. Please rerun this cell to enable.\n",
              "      </output>\n",
              "      <script src=\"/nbextensions/google.colab/files.js\"></script> "
            ],
            "text/plain": [
              "<IPython.core.display.HTML object>"
            ]
          },
          "metadata": {
            "tags": []
          }
        },
        {
          "output_type": "stream",
          "text": [
            "Saving Churn_Modelling.csv to Churn_Modelling (2).csv\n"
          ],
          "name": "stdout"
        }
      ]
    },
    {
      "cell_type": "code",
      "metadata": {
        "colab": {
          "base_uri": "https://localhost:8080/",
          "height": 195
        },
        "id": "DMOEDsAavUuU",
        "outputId": "99eaa814-846c-466b-e098-77cabc73f339"
      },
      "source": [
        "data= pd.read_csv('/content/drive/MyDrive/Churn_Modelling.csv')\n",
        "data.head()"
      ],
      "execution_count": null,
      "outputs": [
        {
          "output_type": "execute_result",
          "data": {
            "text/html": [
              "<div>\n",
              "<style scoped>\n",
              "    .dataframe tbody tr th:only-of-type {\n",
              "        vertical-align: middle;\n",
              "    }\n",
              "\n",
              "    .dataframe tbody tr th {\n",
              "        vertical-align: top;\n",
              "    }\n",
              "\n",
              "    .dataframe thead th {\n",
              "        text-align: right;\n",
              "    }\n",
              "</style>\n",
              "<table border=\"1\" class=\"dataframe\">\n",
              "  <thead>\n",
              "    <tr style=\"text-align: right;\">\n",
              "      <th></th>\n",
              "      <th>RowNumber</th>\n",
              "      <th>CustomerId</th>\n",
              "      <th>Surname</th>\n",
              "      <th>CreditScore</th>\n",
              "      <th>Geography</th>\n",
              "      <th>Gender</th>\n",
              "      <th>Age</th>\n",
              "      <th>Tenure</th>\n",
              "      <th>Balance</th>\n",
              "      <th>NumOfProducts</th>\n",
              "      <th>HasCrCard</th>\n",
              "      <th>IsActiveMember</th>\n",
              "      <th>EstimatedSalary</th>\n",
              "      <th>Exited</th>\n",
              "    </tr>\n",
              "  </thead>\n",
              "  <tbody>\n",
              "    <tr>\n",
              "      <th>0</th>\n",
              "      <td>1</td>\n",
              "      <td>15634602</td>\n",
              "      <td>Hargrave</td>\n",
              "      <td>619</td>\n",
              "      <td>France</td>\n",
              "      <td>Female</td>\n",
              "      <td>42</td>\n",
              "      <td>2</td>\n",
              "      <td>0.00</td>\n",
              "      <td>1</td>\n",
              "      <td>1</td>\n",
              "      <td>1</td>\n",
              "      <td>101348.88</td>\n",
              "      <td>1</td>\n",
              "    </tr>\n",
              "    <tr>\n",
              "      <th>1</th>\n",
              "      <td>2</td>\n",
              "      <td>15647311</td>\n",
              "      <td>Hill</td>\n",
              "      <td>608</td>\n",
              "      <td>Spain</td>\n",
              "      <td>Female</td>\n",
              "      <td>41</td>\n",
              "      <td>1</td>\n",
              "      <td>83807.86</td>\n",
              "      <td>1</td>\n",
              "      <td>0</td>\n",
              "      <td>1</td>\n",
              "      <td>112542.58</td>\n",
              "      <td>0</td>\n",
              "    </tr>\n",
              "    <tr>\n",
              "      <th>2</th>\n",
              "      <td>3</td>\n",
              "      <td>15619304</td>\n",
              "      <td>Onio</td>\n",
              "      <td>502</td>\n",
              "      <td>France</td>\n",
              "      <td>Female</td>\n",
              "      <td>42</td>\n",
              "      <td>8</td>\n",
              "      <td>159660.80</td>\n",
              "      <td>3</td>\n",
              "      <td>1</td>\n",
              "      <td>0</td>\n",
              "      <td>113931.57</td>\n",
              "      <td>1</td>\n",
              "    </tr>\n",
              "    <tr>\n",
              "      <th>3</th>\n",
              "      <td>4</td>\n",
              "      <td>15701354</td>\n",
              "      <td>Boni</td>\n",
              "      <td>699</td>\n",
              "      <td>France</td>\n",
              "      <td>Female</td>\n",
              "      <td>39</td>\n",
              "      <td>1</td>\n",
              "      <td>0.00</td>\n",
              "      <td>2</td>\n",
              "      <td>0</td>\n",
              "      <td>0</td>\n",
              "      <td>93826.63</td>\n",
              "      <td>0</td>\n",
              "    </tr>\n",
              "    <tr>\n",
              "      <th>4</th>\n",
              "      <td>5</td>\n",
              "      <td>15737888</td>\n",
              "      <td>Mitchell</td>\n",
              "      <td>850</td>\n",
              "      <td>Spain</td>\n",
              "      <td>Female</td>\n",
              "      <td>43</td>\n",
              "      <td>2</td>\n",
              "      <td>125510.82</td>\n",
              "      <td>1</td>\n",
              "      <td>1</td>\n",
              "      <td>1</td>\n",
              "      <td>79084.10</td>\n",
              "      <td>0</td>\n",
              "    </tr>\n",
              "  </tbody>\n",
              "</table>\n",
              "</div>"
            ],
            "text/plain": [
              "   RowNumber  CustomerId   Surname  ...  IsActiveMember EstimatedSalary Exited\n",
              "0          1    15634602  Hargrave  ...               1       101348.88      1\n",
              "1          2    15647311      Hill  ...               1       112542.58      0\n",
              "2          3    15619304      Onio  ...               0       113931.57      1\n",
              "3          4    15701354      Boni  ...               0        93826.63      0\n",
              "4          5    15737888  Mitchell  ...               1        79084.10      0\n",
              "\n",
              "[5 rows x 14 columns]"
            ]
          },
          "metadata": {
            "tags": []
          },
          "execution_count": 4
        }
      ]
    },
    {
      "cell_type": "code",
      "metadata": {
        "id": "oD8sn_SxvoG7"
      },
      "source": [
        "import numpy as np\n",
        "import pandas as pd\n",
        "import matplotlib.pyplot as plt\n",
        "import seaborn as sns\n",
        "\n",
        "from keras.models import Sequential\n",
        "from keras.layers import Dense, Activation, LeakyReLU, BatchNormalization, Dropout, Embedding\n",
        "from keras.activations import relu, sigmoid\n",
        "\n",
        "from sklearn.preprocessing import StandardScaler\n"
      ],
      "execution_count": null,
      "outputs": []
    },
    {
      "cell_type": "markdown",
      "metadata": {
        "id": "potQ5CymzWea"
      },
      "source": [
        "**Simple preprocessiong on Data and EDA using Graphs**"
      ]
    },
    {
      "cell_type": "code",
      "metadata": {
        "id": "2vOWmQBUvoP0",
        "colab": {
          "base_uri": "https://localhost:8080/"
        },
        "outputId": "a10e4f3f-9bd4-4e6b-849a-df8eeab0ebf3"
      },
      "source": [
        "#Simple EDA\n",
        "data.isna().sum()"
      ],
      "execution_count": null,
      "outputs": [
        {
          "output_type": "execute_result",
          "data": {
            "text/plain": [
              "RowNumber          0\n",
              "CustomerId         0\n",
              "Surname            0\n",
              "CreditScore        0\n",
              "Geography          0\n",
              "Gender             0\n",
              "Age                0\n",
              "Tenure             0\n",
              "Balance            0\n",
              "NumOfProducts      0\n",
              "HasCrCard          0\n",
              "IsActiveMember     0\n",
              "EstimatedSalary    0\n",
              "Exited             0\n",
              "dtype: int64"
            ]
          },
          "metadata": {
            "tags": []
          },
          "execution_count": 8
        }
      ]
    },
    {
      "cell_type": "code",
      "metadata": {
        "colab": {
          "base_uri": "https://localhost:8080/"
        },
        "id": "BN3dG5o_2aJe",
        "outputId": "fd22db9a-8b49-4866-a8ea-16fa92eb4a35"
      },
      "source": [
        "sum(data.duplicated())\n",
        "\n",
        "data.info()"
      ],
      "execution_count": null,
      "outputs": [
        {
          "output_type": "stream",
          "text": [
            "<class 'pandas.core.frame.DataFrame'>\n",
            "RangeIndex: 10000 entries, 0 to 9999\n",
            "Data columns (total 14 columns):\n",
            " #   Column           Non-Null Count  Dtype  \n",
            "---  ------           --------------  -----  \n",
            " 0   RowNumber        10000 non-null  int64  \n",
            " 1   CustomerId       10000 non-null  int64  \n",
            " 2   Surname          10000 non-null  object \n",
            " 3   CreditScore      10000 non-null  int64  \n",
            " 4   Geography        10000 non-null  object \n",
            " 5   Gender           10000 non-null  object \n",
            " 6   Age              10000 non-null  int64  \n",
            " 7   Tenure           10000 non-null  int64  \n",
            " 8   Balance          10000 non-null  float64\n",
            " 9   NumOfProducts    10000 non-null  int64  \n",
            " 10  HasCrCard        10000 non-null  int64  \n",
            " 11  IsActiveMember   10000 non-null  int64  \n",
            " 12  EstimatedSalary  10000 non-null  float64\n",
            " 13  Exited           10000 non-null  int64  \n",
            "dtypes: float64(2), int64(9), object(3)\n",
            "memory usage: 1.1+ MB\n"
          ],
          "name": "stdout"
        }
      ]
    },
    {
      "cell_type": "code",
      "metadata": {
        "colab": {
          "base_uri": "https://localhost:8080/",
          "height": 546
        },
        "id": "jjxQbe4m2bVZ",
        "outputId": "846e73a0-7936-4617-e42b-9c08f92e3805"
      },
      "source": [
        "f, ax = plt.subplots(1,2, figsize=(10,7))\n",
        "sns.countplot(data['Geography'], ax=ax[0],  palette='magma')\n",
        "sns.countplot(data['Exited'], hue= data['Geography'],ax=ax[1], palette='hot')\n",
        "\n",
        "#France and Germany have almost same no of customers exited. But Germany has higher proportion of Exited customers than France. France has highest proportion of non exited customers."
      ],
      "execution_count": null,
      "outputs": [
        {
          "output_type": "stream",
          "text": [
            "/usr/local/lib/python3.7/dist-packages/seaborn/_decorators.py:43: FutureWarning: Pass the following variable as a keyword arg: x. From version 0.12, the only valid positional argument will be `data`, and passing other arguments without an explicit keyword will result in an error or misinterpretation.\n",
            "  FutureWarning\n",
            "/usr/local/lib/python3.7/dist-packages/seaborn/_decorators.py:43: FutureWarning: Pass the following variable as a keyword arg: x. From version 0.12, the only valid positional argument will be `data`, and passing other arguments without an explicit keyword will result in an error or misinterpretation.\n",
            "  FutureWarning\n"
          ],
          "name": "stderr"
        },
        {
          "output_type": "execute_result",
          "data": {
            "text/plain": [
              "<matplotlib.axes._subplots.AxesSubplot at 0x7f4ad5c14550>"
            ]
          },
          "metadata": {
            "tags": []
          },
          "execution_count": 46
        },
        {
          "output_type": "display_data",
          "data": {
            "image/png": "[encoded data removed]",
            "text/plain": [
              "<Figure size 720x504 with 2 Axes>"
            ]
          },
          "metadata": {
            "tags": [],
            "needs_background": "light"
          }
        }
      ]
    },
    {
      "cell_type": "code",
      "metadata": {
        "colab": {
          "base_uri": "https://localhost:8080/"
        },
        "id": "xeP7hqaE2fX8",
        "outputId": "0ab5bd69-5e10-46b9-8a2a-588c4d4bdfca"
      },
      "source": [
        "data.groupby(['Exited','Geography']).size()"
      ],
      "execution_count": null,
      "outputs": [
        {
          "output_type": "execute_result",
          "data": {
            "text/plain": [
              "Exited  Geography\n",
              "0       France       4204\n",
              "        Germany      1695\n",
              "        Spain        2064\n",
              "1       France        810\n",
              "        Germany       814\n",
              "        Spain         413\n",
              "dtype: int64"
            ]
          },
          "metadata": {
            "tags": []
          },
          "execution_count": 65
        }
      ]
    },
    {
      "cell_type": "code",
      "metadata": {
        "colab": {
          "base_uri": "https://localhost:8080/",
          "height": 492
        },
        "id": "FLJB__mH2flL",
        "outputId": "8a785faa-6766-4219-ce6e-07f0d5ce23f2"
      },
      "source": [
        "#Gender relationship\n",
        "\n",
        "f,ax= plt.subplots(1,2, figsize=(10,6))\n",
        "sns.countplot(data['Gender'], ax=ax[0])\n",
        "sns.countplot(data['Gender'], hue=data['Exited'], ax=ax[1])"
      ],
      "execution_count": null,
      "outputs": [
        {
          "output_type": "stream",
          "text": [
            "/usr/local/lib/python3.7/dist-packages/seaborn/_decorators.py:43: FutureWarning: Pass the following variable as a keyword arg: x. From version 0.12, the only valid positional argument will be `data`, and passing other arguments without an explicit keyword will result in an error or misinterpretation.\n",
            "  FutureWarning\n",
            "/usr/local/lib/python3.7/dist-packages/seaborn/_decorators.py:43: FutureWarning: Pass the following variable as a keyword arg: x. From version 0.12, the only valid positional argument will be `data`, and passing other arguments without an explicit keyword will result in an error or misinterpretation.\n",
            "  FutureWarning\n"
          ],
          "name": "stderr"
        },
        {
          "output_type": "execute_result",
          "data": {
            "text/plain": [
              "<matplotlib.axes._subplots.AxesSubplot at 0x7f4ad5ba88d0>"
            ]
          },
          "metadata": {
            "tags": []
          },
          "execution_count": 68
        },
        {
          "output_type": "display_data",
          "data": {
            "image/png": "[encoded data removed]",
            "text/plain": [
              "<Figure size 720x432 with 2 Axes>"
            ]
          },
          "metadata": {
            "tags": [],
            "needs_background": "light"
          }
        }
      ]
    },
    {
      "cell_type": "code",
      "metadata": {
        "colab": {
          "base_uri": "https://localhost:8080/"
        },
        "id": "h14JYUhr2fnd",
        "outputId": "62c8fc24-825a-495a-c98e-7ffa12efa814"
      },
      "source": [
        "data.value_counts(['Gender', 'Exited'], normalize=True)*100\n",
        "\n",
        "#So females leave more than males\n"
      ],
      "execution_count": null,
      "outputs": [
        {
          "output_type": "execute_result",
          "data": {
            "text/plain": [
              "Gender  Exited\n",
              "Male    0         45.59\n",
              "Female  0         34.04\n",
              "        1         11.39\n",
              "Male    1          8.98\n",
              "dtype: float64"
            ]
          },
          "metadata": {
            "tags": []
          },
          "execution_count": 73
        }
      ]
    },
    {
      "cell_type": "code",
      "metadata": {
        "colab": {
          "base_uri": "https://localhost:8080/",
          "height": 492
        },
        "id": "yIMe1BAB2frp",
        "outputId": "3445dd33-4389-4ce1-bba7-f038d64d526e"
      },
      "source": [
        "#Age\n",
        "plt.figure(figsize=(12,6))\n",
        "sns.distplot(data[data['Exited']==1]['Age'], color='green', label='Exited')\n",
        "sns.distplot(data[data['Exited']==0]['Age'], color='red', label='Not Exited')\n",
        "\n",
        "plt.legend()\n",
        "\n",
        "#So if a person has higher age, ie b/w 40-50, he is more likely to Exit "
      ],
      "execution_count": null,
      "outputs": [
        {
          "output_type": "stream",
          "text": [
            "/usr/local/lib/python3.7/dist-packages/seaborn/distributions.py:2557: FutureWarning: `distplot` is a deprecated function and will be removed in a future version. Please adapt your code to use either `displot` (a figure-level function with similar flexibility) or `histplot` (an axes-level function for histograms).\n",
            "  warnings.warn(msg, FutureWarning)\n",
            "/usr/local/lib/python3.7/dist-packages/seaborn/distributions.py:2557: FutureWarning: `distplot` is a deprecated function and will be removed in a future version. Please adapt your code to use either `displot` (a figure-level function with similar flexibility) or `histplot` (an axes-level function for histograms).\n",
            "  warnings.warn(msg, FutureWarning)\n"
          ],
          "name": "stderr"
        },
        {
          "output_type": "execute_result",
          "data": {
            "text/plain": [
              "<matplotlib.legend.Legend at 0x7f4ad2946650>"
            ]
          },
          "metadata": {
            "tags": []
          },
          "execution_count": 86
        },
        {
          "output_type": "display_data",
          "data": {
            "image/png": "[encoded data removed]",
            "text/plain": [
              "<Figure size 864x432 with 1 Axes>"
            ]
          },
          "metadata": {
            "tags": [],
            "needs_background": "light"
          }
        }
      ]
    },
    {
      "cell_type": "code",
      "metadata": {
        "colab": {
          "base_uri": "https://localhost:8080/",
          "height": 492
        },
        "id": "aqOpTV9g2fuA",
        "outputId": "c7cc64e6-13f8-44c2-d76e-9015d3e5b588"
      },
      "source": [
        "#No of products\n",
        "#If a customer has more productrs will it stay or will it exit\n",
        "\n",
        "f,ax= plt.subplots(1,2, figsize=(8,6))\n",
        "sns.countplot(data['NumOfProducts'], ax=ax[0])\n",
        "sns.countplot(data['NumOfProducts'],hue=data['Exited'], ax=ax[1])\n",
        "\n",
        "plt.legend(loc='upper right')\n",
        "\n",
        "\n",
        "#Proportion of Exited is more in case customer buys 3 or 4 products."
      ],
      "execution_count": null,
      "outputs": [
        {
          "output_type": "stream",
          "text": [
            "/usr/local/lib/python3.7/dist-packages/seaborn/_decorators.py:43: FutureWarning: Pass the following variable as a keyword arg: x. From version 0.12, the only valid positional argument will be `data`, and passing other arguments without an explicit keyword will result in an error or misinterpretation.\n",
            "  FutureWarning\n",
            "/usr/local/lib/python3.7/dist-packages/seaborn/_decorators.py:43: FutureWarning: Pass the following variable as a keyword arg: x. From version 0.12, the only valid positional argument will be `data`, and passing other arguments without an explicit keyword will result in an error or misinterpretation.\n",
            "  FutureWarning\n"
          ],
          "name": "stderr"
        },
        {
          "output_type": "execute_result",
          "data": {
            "text/plain": [
              "<matplotlib.legend.Legend at 0x7f4ad240c6d0>"
            ]
          },
          "metadata": {
            "tags": []
          },
          "execution_count": 97
        },
        {
          "output_type": "display_data",
          "data": {
            "image/png": "[encoded data removed]",
            "text/plain": [
              "<Figure size 576x432 with 2 Axes>"
            ]
          },
          "metadata": {
            "tags": [],
            "needs_background": "light"
          }
        }
      ]
    },
    {
      "cell_type": "code",
      "metadata": {
        "colab": {
          "base_uri": "https://localhost:8080/",
          "height": 195
        },
        "id": "P8v5yrHY2fxq",
        "outputId": "8001442f-6de2-4d72-b4bc-9a8f408fe74d"
      },
      "source": [
        "pd.crosstab(data.NumOfProducts, data.Exited).apply(lambda r: r/r.sum()*100, axis=1)\n",
        "\n",
        "#Use this to get percentage values. Also axis=1 means do it row wise\n",
        "#In case no of products brought is 3 or 4, exit ratio is higher\n"
      ],
      "execution_count": null,
      "outputs": [
        {
          "output_type": "execute_result",
          "data": {
            "text/html": [
              "<div>\n",
              "<style scoped>\n",
              "    .dataframe tbody tr th:only-of-type {\n",
              "        vertical-align: middle;\n",
              "    }\n",
              "\n",
              "    .dataframe tbody tr th {\n",
              "        vertical-align: top;\n",
              "    }\n",
              "\n",
              "    .dataframe thead th {\n",
              "        text-align: right;\n",
              "    }\n",
              "</style>\n",
              "<table border=\"1\" class=\"dataframe\">\n",
              "  <thead>\n",
              "    <tr style=\"text-align: right;\">\n",
              "      <th>Exited</th>\n",
              "      <th>0</th>\n",
              "      <th>1</th>\n",
              "    </tr>\n",
              "    <tr>\n",
              "      <th>NumOfProducts</th>\n",
              "      <th></th>\n",
              "      <th></th>\n",
              "    </tr>\n",
              "  </thead>\n",
              "  <tbody>\n",
              "    <tr>\n",
              "      <th>1</th>\n",
              "      <td>72.285602</td>\n",
              "      <td>27.714398</td>\n",
              "    </tr>\n",
              "    <tr>\n",
              "      <th>2</th>\n",
              "      <td>92.418301</td>\n",
              "      <td>7.581699</td>\n",
              "    </tr>\n",
              "    <tr>\n",
              "      <th>3</th>\n",
              "      <td>17.293233</td>\n",
              "      <td>82.706767</td>\n",
              "    </tr>\n",
              "    <tr>\n",
              "      <th>4</th>\n",
              "      <td>0.000000</td>\n",
              "      <td>100.000000</td>\n",
              "    </tr>\n",
              "  </tbody>\n",
              "</table>\n",
              "</div>"
            ],
            "text/plain": [
              "Exited                 0           1\n",
              "NumOfProducts                       \n",
              "1              72.285602   27.714398\n",
              "2              92.418301    7.581699\n",
              "3              17.293233   82.706767\n",
              "4               0.000000  100.000000"
            ]
          },
          "metadata": {
            "tags": []
          },
          "execution_count": 102
        }
      ]
    },
    {
      "cell_type": "code",
      "metadata": {
        "colab": {
          "base_uri": "https://localhost:8080/",
          "height": 296
        },
        "id": "amOD-QNC2f2D",
        "outputId": "600efbe7-1f40-44fb-d7e6-85456f3d6e62"
      },
      "source": [
        "#creditscore\n",
        "\n",
        "sns.histplot(data[data['Exited']==1]['CreditScore'], color='black')\n",
        "sns.histplot(data[data['Exited']==0]['CreditScore'], color='red')\n",
        "\n",
        "#people with high credit score stays longer and does not leave\n"
      ],
      "execution_count": null,
      "outputs": [
        {
          "output_type": "execute_result",
          "data": {
            "text/plain": [
              "<matplotlib.axes._subplots.AxesSubplot at 0x7f4ad1459f10>"
            ]
          },
          "metadata": {
            "tags": []
          },
          "execution_count": 120
        },
        {
          "output_type": "display_data",
          "data": {
            "image/png": "[encoded data removed]",
            "text/plain": [
              "<Figure size 432x288 with 1 Axes>"
            ]
          },
          "metadata": {
            "tags": [],
            "needs_background": "light"
          }
        }
      ]
    },
    {
      "cell_type": "code",
      "metadata": {
        "colab": {
          "base_uri": "https://localhost:8080/",
          "height": 394
        },
        "id": "p8pTFj0d2f5D",
        "outputId": "1e820570-50a9-4ae2-f881-d08471051652"
      },
      "source": [
        "#Money in acoount\n",
        "sns.distplot(data[data['Exited']==1]['Balance'], color='blue')\n",
        "sns.distplot(data[data['Exited']==0]['Balance'], color='red')\n",
        "\n",
        "#people with more money will exit somre than stay\n",
        "#people with less amount tend to stay more\n"
      ],
      "execution_count": null,
      "outputs": [
        {
          "output_type": "stream",
          "text": [
            "/usr/local/lib/python3.7/dist-packages/seaborn/distributions.py:2557: FutureWarning: `distplot` is a deprecated function and will be removed in a future version. Please adapt your code to use either `displot` (a figure-level function with similar flexibility) or `histplot` (an axes-level function for histograms).\n",
            "  warnings.warn(msg, FutureWarning)\n",
            "/usr/local/lib/python3.7/dist-packages/seaborn/distributions.py:2557: FutureWarning: `distplot` is a deprecated function and will be removed in a future version. Please adapt your code to use either `displot` (a figure-level function with similar flexibility) or `histplot` (an axes-level function for histograms).\n",
            "  warnings.warn(msg, FutureWarning)\n"
          ],
          "name": "stderr"
        },
        {
          "output_type": "execute_result",
          "data": {
            "text/plain": [
              "<matplotlib.axes._subplots.AxesSubplot at 0x7f4ad2276f90>"
            ]
          },
          "metadata": {
            "tags": []
          },
          "execution_count": 124
        },
        {
          "output_type": "display_data",
          "data": {
            "image/png": "[encoded data removed]",
            "text/plain": [
              "<Figure size 432x288 with 1 Axes>"
            ]
          },
          "metadata": {
            "tags": [],
            "needs_background": "light"
          }
        }
      ]
    },
    {
      "cell_type": "code",
      "metadata": {
        "colab": {
          "base_uri": "https://localhost:8080/",
          "height": 136
        },
        "id": "H5Jx-8XfCrWC",
        "outputId": "04df38bc-4e67-4145-9836-540c098d2214"
      },
      "source": [
        "#Imapct of credit card\n",
        "\n",
        "pd.crosstab(data.HasCrCard, data.Exited).apply(lambda r: r/r.sum()*100, axis=1)\n",
        "\n",
        "#So having or not having credit card does not show that much influence on the Exited feature\n"
      ],
      "execution_count": null,
      "outputs": [
        {
          "output_type": "execute_result",
          "data": {
            "text/html": [
              "<div>\n",
              "<style scoped>\n",
              "    .dataframe tbody tr th:only-of-type {\n",
              "        vertical-align: middle;\n",
              "    }\n",
              "\n",
              "    .dataframe tbody tr th {\n",
              "        vertical-align: top;\n",
              "    }\n",
              "\n",
              "    .dataframe thead th {\n",
              "        text-align: right;\n",
              "    }\n",
              "</style>\n",
              "<table border=\"1\" class=\"dataframe\">\n",
              "  <thead>\n",
              "    <tr style=\"text-align: right;\">\n",
              "      <th>Exited</th>\n",
              "      <th>0</th>\n",
              "      <th>1</th>\n",
              "    </tr>\n",
              "    <tr>\n",
              "      <th>HasCrCard</th>\n",
              "      <th></th>\n",
              "      <th></th>\n",
              "    </tr>\n",
              "  </thead>\n",
              "  <tbody>\n",
              "    <tr>\n",
              "      <th>0</th>\n",
              "      <td>79.185059</td>\n",
              "      <td>20.814941</td>\n",
              "    </tr>\n",
              "    <tr>\n",
              "      <th>1</th>\n",
              "      <td>79.815734</td>\n",
              "      <td>20.184266</td>\n",
              "    </tr>\n",
              "  </tbody>\n",
              "</table>\n",
              "</div>"
            ],
            "text/plain": [
              "Exited             0          1\n",
              "HasCrCard                      \n",
              "0          79.185059  20.814941\n",
              "1          79.815734  20.184266"
            ]
          },
          "metadata": {
            "tags": []
          },
          "execution_count": 129
        }
      ]
    },
    {
      "cell_type": "code",
      "metadata": {
        "colab": {
          "base_uri": "https://localhost:8080/",
          "height": 307
        },
        "id": "r710vESVCrZA",
        "outputId": "e257704f-9b11-4019-afd7-3c6bea741869"
      },
      "source": [
        "sns.kdeplot(data[data['Exited']==1]['EstimatedSalary'], fill='red')\n",
        "sns.kdeplot(data[data['Exited']==0]['EstimatedSalary'], fill='blue')\n",
        "\n",
        "#SO salary does not have impact on exiting or not"
      ],
      "execution_count": null,
      "outputs": [
        {
          "output_type": "execute_result",
          "data": {
            "text/plain": [
              "<matplotlib.axes._subplots.AxesSubplot at 0x7f4ad10af510>"
            ]
          },
          "metadata": {
            "tags": []
          },
          "execution_count": 135
        },
        {
          "output_type": "display_data",
          "data": {
            "image/png": "[encoded data removed]",
            "text/plain": [
              "<Figure size 432x288 with 1 Axes>"
            ]
          },
          "metadata": {
            "tags": [],
            "needs_background": "light"
          }
        }
      ]
    },
    {
      "cell_type": "markdown",
      "metadata": {
        "id": "mGckA5jpzjTy"
      },
      "source": [
        "**Finding Some Correlation Patterns**"
      ]
    },
    {
      "cell_type": "code",
      "metadata": {
        "colab": {
          "base_uri": "https://localhost:8080/",
          "height": 576
        },
        "id": "nMj27ZlICrb9",
        "outputId": "1c684bb9-d291-4eac-9588-a1c334088e1f"
      },
      "source": [
        "#Correlation ANalysis\n",
        "plt.figure(figsize=(8,8))\n",
        "sns.heatmap(data.iloc[:,2:].corr(), annot=True, cmap='RdYlBu', linewidths=0.2, linecolor='black', vmin=-1, vmax=1)"
      ],
      "execution_count": null,
      "outputs": [
        {
          "output_type": "execute_result",
          "data": {
            "text/plain": [
              "<matplotlib.axes._subplots.AxesSubplot at 0x7f4ac689b2d0>"
            ]
          },
          "metadata": {
            "tags": []
          },
          "execution_count": 146
        },
        {
          "output_type": "display_data",
          "data": {
            "image/png": "[encoded data removed]",
            "text/plain": [
              "<Figure size 576x576 with 2 Axes>"
            ]
          },
          "metadata": {
            "tags": [],
            "needs_background": "light"
          }
        }
      ]
    },
    {
      "cell_type": "code",
      "metadata": {
        "id": "9zKeJxUcCreB"
      },
      "source": [
        "#We start prediction analysis\n",
        "x= data.iloc[:,3:13].values\n",
        "y= data.iloc[:,13:].values"
      ],
      "execution_count": null,
      "outputs": []
    },
    {
      "cell_type": "code",
      "metadata": {
        "id": "hSId3e_RCriZ"
      },
      "source": [
        "from sklearn.preprocessing import OneHotEncoder, LabelEncoder\n",
        "#OneHotEncoder will create dummy variable (seperate columns) for each value and may lead to problem of Dummy Variable Trap where dummy variables are highly correlated.\n",
        "#LabelEncoder will do it alphabetically for all in the same column. The problem is that it uses alphabetical order for assigning rank labels and it is possible that model when training captures this as one of the feature when it is really not\n",
        "\n",
        "label_x1= LabelEncoder()\n",
        "\n",
        "x[:,1]= label_x1.fit_transform(x[:,1])\n",
        "x[:,2]= label_x1.fit_transform(x[:,2])"
      ],
      "execution_count": null,
      "outputs": []
    },
    {
      "cell_type": "markdown",
      "metadata": {
        "id": "bbws_VTBzpS_"
      },
      "source": [
        "**Data Modelling**"
      ]
    },
    {
      "cell_type": "code",
      "metadata": {
        "id": "nLTGOZJiK7Uv"
      },
      "source": [
        "from sklearn.model_selection import train_test_split\n",
        "x_train, x_test, y_train, y_test= train_test_split(x, y, test_size=0.2, random_state=0)"
      ],
      "execution_count": null,
      "outputs": []
    },
    {
      "cell_type": "code",
      "metadata": {
        "id": "bw-4adZfFXxK"
      },
      "source": [
        "from sklearn.preprocessing import StandardScaler\n",
        "#In layman's terms, fit_transform means to do some calculation and then do transformation (say calculating the means of columns from some data and then replacing the missing values). So for training set, you need to both calculate and do transformation.\n",
        "#But for testing set, Machine learning applies prediction based on what was learned during the training set and so it doesn't need to calculate, it just performs the transformation.\n",
        "\n",
        "\n",
        "sc= StandardScaler()\n",
        "\n",
        "x_train= sc.fit_transform(x_train)\n",
        "x_test= sc.transform(x_test)"
      ],
      "execution_count": null,
      "outputs": []
    },
    {
      "cell_type": "code",
      "metadata": {
        "id": "OqqNsVuxFYFg"
      },
      "source": [
        "from keras.wrappers.scikit_learn import KerasClassifier\n",
        "from sklearn.model_selection import GridSearchCV"
      ],
      "execution_count": null,
      "outputs": []
    },
    {
      "cell_type": "code",
      "metadata": {
        "id": "UMRZg8QKFYHn"
      },
      "source": [
        "def create_model(layers, activation):\n",
        "  model=Sequential()\n",
        "  for i, nodes in enumerate(layers):\n",
        "    if i==0:\n",
        "      model.add(Dense(nodes, input_dim= x_train.shape[1] )) \n",
        "      model.add(Activation(activation))\n",
        "\n",
        "    else:\n",
        "      model.add(Dense(nodes))\n",
        "      model.add(Activation(activation))\n",
        "\n",
        "  model.add(Dense(1))\n",
        "  \n",
        "  model.compile(optimizer='adam', loss='binary_crossentropy', metrics=['accuracy'])\n",
        "  return model\n",
        "\n",
        "model= KerasClassifier(build_fn=create_model, verbose=1)"
      ],
      "execution_count": null,
      "outputs": []
    },
    {
      "cell_type": "code",
      "metadata": {
        "colab": {
          "base_uri": "https://localhost:8080/"
        },
        "id": "bz4rDanWFYLe",
        "outputId": "900d0651-b057-4813-b587-095921ac7553"
      },
      "source": [
        "model"
      ],
      "execution_count": null,
      "outputs": [
        {
          "output_type": "execute_result",
          "data": {
            "text/plain": [
              "<tensorflow.python.keras.wrappers.scikit_learn.KerasClassifier at 0x7ff112553550>"
            ]
          },
          "metadata": {
            "tags": []
          },
          "execution_count": 58
        }
      ]
    },
    {
      "cell_type": "code",
      "metadata": {
        "id": "LPV1_WO3FYNz"
      },
      "source": [
        "layers=[(20), (40,20), (45,30,15)]\n",
        "activations=('sigmoid', 'relu')\n",
        "param_grid= dict(layers=layers, activation=activations, batch_size=[128,256], epochs=[10])\n",
        "grid= GridSearchCV(estimator=model, param_grid= param_grid)\n"
      ],
      "execution_count": null,
      "outputs": []
    },
    {
      "cell_type": "code",
      "metadata": {
        "colab": {
          "base_uri": "https://localhost:8080/"
        },
        "id": "vlz3PvVbFYQk",
        "outputId": "6a45f71f-c2d4-40dc-db86-27567d906dd0"
      },
      "source": [
        "grid_result= grid.fit(x_train, y_train)"
      ],
      "execution_count": null,
      "outputs": [
        {
          "output_type": "stream",
          "text": [
            "/usr/local/lib/python3.7/dist-packages/sklearn/model_selection/_validation.py:536: FitFailedWarning: Estimator fit failed. The score on this train-test partition for these parameters will be set to nan. Details: \n",
            "TypeError: 'int' object is not iterable\n",
            "\n",
            "  FitFailedWarning)\n"
          ],
          "name": "stderr"
        },
        {
          "output_type": "stream",
          "text": [
            "Epoch 1/10\n",
            "50/50 [==============================] - 0s 1ms/step - loss: 0.5190 - accuracy: 0.7888\n",
            "Epoch 2/10\n",
            "50/50 [==============================] - 0s 1ms/step - loss: 0.4653 - accuracy: 0.8007\n",
            "Epoch 3/10\n",
            "50/50 [==============================] - 0s 1ms/step - loss: 0.4395 - accuracy: 0.8086\n",
            "Epoch 4/10\n",
            "50/50 [==============================] - 0s 1ms/step - loss: 0.4496 - accuracy: 0.7974\n",
            "Epoch 5/10\n",
            "50/50 [==============================] - 0s 1ms/step - loss: 0.4698 - accuracy: 0.7905\n",
            "Epoch 6/10\n",
            "50/50 [==============================] - 0s 1ms/step - loss: 0.4504 - accuracy: 0.7936\n",
            "Epoch 7/10\n",
            "50/50 [==============================] - 0s 1ms/step - loss: 0.4405 - accuracy: 0.7990\n",
            "Epoch 8/10\n",
            "50/50 [==============================] - 0s 1ms/step - loss: 0.4421 - accuracy: 0.7981\n",
            "Epoch 9/10\n",
            "50/50 [==============================] - 0s 1ms/step - loss: 0.4362 - accuracy: 0.7974\n",
            "Epoch 10/10\n",
            "50/50 [==============================] - 0s 1ms/step - loss: 0.4372 - accuracy: 0.8014\n",
            "13/13 [==============================] - 0s 1ms/step - loss: 0.4572 - accuracy: 0.7831\n",
            "Epoch 1/10\n",
            "50/50 [==============================] - 0s 1ms/step - loss: 0.5291 - accuracy: 0.7796\n",
            "Epoch 2/10\n",
            "50/50 [==============================] - 0s 2ms/step - loss: 0.4782 - accuracy: 0.7923\n",
            "Epoch 3/10\n",
            "50/50 [==============================] - 0s 1ms/step - loss: 0.4441 - accuracy: 0.8049\n",
            "Epoch 4/10\n",
            "50/50 [==============================] - 0s 1ms/step - loss: 0.4461 - accuracy: 0.8009\n",
            "Epoch 5/10\n",
            "50/50 [==============================] - 0s 1ms/step - loss: 0.4531 - accuracy: 0.7941\n",
            "Epoch 6/10\n",
            "50/50 [==============================] - 0s 1ms/step - loss: 0.4411 - accuracy: 0.8053\n",
            "Epoch 7/10\n",
            "50/50 [==============================] - 0s 1ms/step - loss: 0.4913 - accuracy: 0.7937\n",
            "Epoch 8/10\n",
            "50/50 [==============================] - 0s 1ms/step - loss: 0.4547 - accuracy: 0.7970\n",
            "Epoch 9/10\n",
            "50/50 [==============================] - 0s 2ms/step - loss: 0.4850 - accuracy: 0.7914\n",
            "Epoch 10/10\n",
            "50/50 [==============================] - 0s 1ms/step - loss: 0.4780 - accuracy: 0.8007\n",
            "13/13 [==============================] - 0s 2ms/step - loss: 0.4548 - accuracy: 0.8012\n",
            "Epoch 1/10\n",
            "50/50 [==============================] - 0s 1ms/step - loss: 3.3164 - accuracy: 0.7850\n",
            "Epoch 2/10\n",
            "50/50 [==============================] - 0s 1ms/step - loss: 3.0907 - accuracy: 0.7996\n",
            "Epoch 3/10\n",
            "50/50 [==============================] - 0s 1ms/step - loss: 3.2212 - accuracy: 0.7912\n",
            "Epoch 4/10\n",
            "50/50 [==============================] - 0s 1ms/step - loss: 3.3581 - accuracy: 0.7823\n",
            "Epoch 5/10\n",
            "50/50 [==============================] - 0s 1ms/step - loss: 3.3290 - accuracy: 0.7842\n",
            "Epoch 6/10\n",
            "50/50 [==============================] - 0s 1ms/step - loss: 3.1706 - accuracy: 0.7945\n",
            "Epoch 7/10\n",
            "50/50 [==============================] - 0s 1ms/step - loss: 3.1705 - accuracy: 0.7945\n",
            "Epoch 8/10\n",
            "50/50 [==============================] - 0s 1ms/step - loss: 3.1558 - accuracy: 0.7954\n",
            "Epoch 9/10\n",
            "50/50 [==============================] - 0s 1ms/step - loss: 3.2257 - accuracy: 0.7909\n",
            "Epoch 10/10\n",
            "50/50 [==============================] - 0s 1ms/step - loss: 3.2165 - accuracy: 0.7915\n",
            "13/13 [==============================] - 0s 1ms/step - loss: 2.8825 - accuracy: 0.8131\n",
            "Epoch 1/10\n",
            "50/50 [==============================] - 0s 1ms/step - loss: 12.1876 - accuracy: 0.2008\n",
            "Epoch 2/10\n",
            "50/50 [==============================] - 0s 1ms/step - loss: 12.0719 - accuracy: 0.2084\n",
            "Epoch 3/10\n",
            "50/50 [==============================] - 0s 1ms/step - loss: 12.2322 - accuracy: 0.1978\n",
            "Epoch 4/10\n",
            "50/50 [==============================] - 0s 1ms/step - loss: 12.0769 - accuracy: 0.2080\n",
            "Epoch 5/10\n",
            "50/50 [==============================] - 0s 1ms/step - loss: 12.1695 - accuracy: 0.2020\n",
            "Epoch 6/10\n",
            "50/50 [==============================] - 0s 2ms/step - loss: 12.2325 - accuracy: 0.1978\n",
            "Epoch 7/10\n",
            "50/50 [==============================] - 0s 1ms/step - loss: 12.0889 - accuracy: 0.2072\n",
            "Epoch 8/10\n",
            "50/50 [==============================] - 0s 1ms/step - loss: 12.1601 - accuracy: 0.2026\n",
            "Epoch 9/10\n",
            "50/50 [==============================] - 0s 2ms/step - loss: 12.1794 - accuracy: 0.2013\n",
            "Epoch 10/10\n",
            "50/50 [==============================] - 0s 1ms/step - loss: 12.0985 - accuracy: 0.2066\n",
            "13/13 [==============================] - 0s 1ms/step - loss: 12.0564 - accuracy: 0.2094\n",
            "Epoch 1/10\n",
            "50/50 [==============================] - 1s 1ms/step - loss: 0.5792 - accuracy: 0.8027\n",
            "Epoch 2/10\n",
            "50/50 [==============================] - 0s 1ms/step - loss: 0.4595 - accuracy: 0.8078\n",
            "Epoch 3/10\n",
            "50/50 [==============================] - 0s 1ms/step - loss: 0.4499 - accuracy: 0.7966\n",
            "Epoch 4/10\n",
            "50/50 [==============================] - 0s 1ms/step - loss: 0.4397 - accuracy: 0.8012\n",
            "Epoch 5/10\n",
            "50/50 [==============================] - 0s 1ms/step - loss: 0.4503 - accuracy: 0.8067\n",
            "Epoch 6/10\n",
            "50/50 [==============================] - 0s 1ms/step - loss: 0.4476 - accuracy: 0.7923\n",
            "Epoch 7/10\n",
            "50/50 [==============================] - 0s 1ms/step - loss: 0.4501 - accuracy: 0.7982\n",
            "Epoch 8/10\n",
            "50/50 [==============================] - 0s 1ms/step - loss: 0.4474 - accuracy: 0.7956\n",
            "Epoch 9/10\n",
            "50/50 [==============================] - 0s 1ms/step - loss: 0.4476 - accuracy: 0.7994\n",
            "Epoch 10/10\n",
            "50/50 [==============================] - 0s 1ms/step - loss: 0.4389 - accuracy: 0.7971\n",
            "13/13 [==============================] - 0s 1ms/step - loss: 0.4438 - accuracy: 0.7912\n",
            "Epoch 1/10\n",
            "50/50 [==============================] - 0s 2ms/step - loss: 12.0971 - accuracy: 0.2067\n",
            "Epoch 2/10\n",
            "50/50 [==============================] - 0s 1ms/step - loss: 12.1310 - accuracy: 0.2045\n",
            "Epoch 3/10\n",
            "50/50 [==============================] - 0s 1ms/step - loss: 12.1356 - accuracy: 0.2042\n",
            "Epoch 4/10\n",
            "50/50 [==============================] - 0s 2ms/step - loss: 12.2413 - accuracy: 0.1973\n",
            "Epoch 5/10\n",
            "50/50 [==============================] - 0s 1ms/step - loss: 12.1524 - accuracy: 0.2031\n",
            "Epoch 6/10\n",
            "50/50 [==============================] - 0s 2ms/step - loss: 12.2296 - accuracy: 0.1980\n",
            "Epoch 7/10\n",
            "50/50 [==============================] - 0s 1ms/step - loss: 12.1904 - accuracy: 0.2006\n",
            "Epoch 8/10\n",
            "50/50 [==============================] - 0s 1ms/step - loss: 11.9644 - accuracy: 0.2154\n",
            "Epoch 9/10\n",
            "50/50 [==============================] - 0s 1ms/step - loss: 12.0157 - accuracy: 0.2120\n",
            "Epoch 10/10\n",
            "50/50 [==============================] - 0s 2ms/step - loss: 12.0949 - accuracy: 0.2069\n",
            "13/13 [==============================] - 0s 1ms/step - loss: 12.0183 - accuracy: 0.2119\n",
            "Epoch 1/10\n",
            "50/50 [==============================] - 0s 2ms/step - loss: 3.1127 - accuracy: 0.7982\n",
            "Epoch 2/10\n",
            "50/50 [==============================] - 0s 2ms/step - loss: 3.1485 - accuracy: 0.7959\n",
            "Epoch 3/10\n",
            "50/50 [==============================] - 0s 1ms/step - loss: 3.2423 - accuracy: 0.7898\n",
            "Epoch 4/10\n",
            "50/50 [==============================] - 0s 2ms/step - loss: 3.0801 - accuracy: 0.8003\n",
            "Epoch 5/10\n",
            "50/50 [==============================] - 0s 2ms/step - loss: 3.0216 - accuracy: 0.8041\n",
            "Epoch 6/10\n",
            "50/50 [==============================] - 0s 2ms/step - loss: 3.0264 - accuracy: 0.8038\n",
            "Epoch 7/10\n",
            "50/50 [==============================] - 0s 2ms/step - loss: 3.1925 - accuracy: 0.7930\n",
            "Epoch 8/10\n",
            "50/50 [==============================] - 0s 2ms/step - loss: 3.2048 - accuracy: 0.7922\n",
            "Epoch 9/10\n",
            "50/50 [==============================] - 0s 2ms/step - loss: 3.1945 - accuracy: 0.7929\n",
            "Epoch 10/10\n",
            "50/50 [==============================] - 0s 2ms/step - loss: 3.0893 - accuracy: 0.7997\n",
            "13/13 [==============================] - 0s 1ms/step - loss: 3.2200 - accuracy: 0.7912\n",
            "Epoch 1/10\n",
            "50/50 [==============================] - 1s 2ms/step - loss: 3.2235 - accuracy: 0.7910\n",
            "Epoch 2/10\n",
            "50/50 [==============================] - 0s 2ms/step - loss: 3.2197 - accuracy: 0.7913\n",
            "Epoch 3/10\n",
            "50/50 [==============================] - 0s 2ms/step - loss: 3.1836 - accuracy: 0.7936\n",
            "Epoch 4/10\n",
            "50/50 [==============================] - 0s 2ms/step - loss: 3.2014 - accuracy: 0.7925\n",
            "Epoch 5/10\n",
            "50/50 [==============================] - 0s 2ms/step - loss: 3.1873 - accuracy: 0.7934\n",
            "Epoch 6/10\n",
            "50/50 [==============================] - 0s 2ms/step - loss: 3.2041 - accuracy: 0.7923\n",
            "Epoch 7/10\n",
            "50/50 [==============================] - 0s 2ms/step - loss: 3.3076 - accuracy: 0.7856\n",
            "Epoch 8/10\n",
            "50/50 [==============================] - 0s 2ms/step - loss: 3.1341 - accuracy: 0.7968\n",
            "Epoch 9/10\n",
            "50/50 [==============================] - 0s 2ms/step - loss: 3.1582 - accuracy: 0.7953\n",
            "Epoch 10/10\n",
            "50/50 [==============================] - 0s 2ms/step - loss: 3.2707 - accuracy: 0.7880\n",
            "13/13 [==============================] - 0s 1ms/step - loss: 2.8825 - accuracy: 0.8131\n",
            "Epoch 1/10\n",
            "50/50 [==============================] - 0s 1ms/step - loss: 0.6328 - accuracy: 0.6087\n",
            "Epoch 2/10\n",
            "50/50 [==============================] - 0s 1ms/step - loss: 0.4921 - accuracy: 0.7981\n",
            "Epoch 3/10\n",
            "50/50 [==============================] - 0s 1ms/step - loss: 0.4715 - accuracy: 0.8025\n",
            "Epoch 4/10\n",
            "50/50 [==============================] - 0s 2ms/step - loss: 0.4610 - accuracy: 0.7929\n",
            "Epoch 5/10\n",
            "50/50 [==============================] - 0s 2ms/step - loss: 0.4432 - accuracy: 0.7973\n",
            "Epoch 6/10\n",
            "50/50 [==============================] - 0s 2ms/step - loss: 0.4884 - accuracy: 0.7650\n",
            "Epoch 7/10\n",
            "50/50 [==============================] - 0s 2ms/step - loss: 0.4579 - accuracy: 0.7940\n",
            "Epoch 8/10\n",
            "50/50 [==============================] - 0s 2ms/step - loss: 0.4581 - accuracy: 0.7872\n",
            "Epoch 9/10\n",
            "50/50 [==============================] - 0s 2ms/step - loss: 0.4463 - accuracy: 0.7944\n",
            "Epoch 10/10\n",
            "50/50 [==============================] - 0s 1ms/step - loss: 0.4333 - accuracy: 0.7996\n",
            "13/13 [==============================] - 0s 1ms/step - loss: 0.4556 - accuracy: 0.7925\n",
            "Epoch 1/10\n",
            "50/50 [==============================] - 1s 2ms/step - loss: 3.1088 - accuracy: 0.7985\n",
            "Epoch 2/10\n",
            "50/50 [==============================] - 0s 2ms/step - loss: 3.2597 - accuracy: 0.7887\n",
            "Epoch 3/10\n",
            "50/50 [==============================] - 0s 2ms/step - loss: 3.0938 - accuracy: 0.7994\n",
            "Epoch 4/10\n",
            "50/50 [==============================] - 0s 2ms/step - loss: 3.2380 - accuracy: 0.7901\n",
            "Epoch 5/10\n",
            "50/50 [==============================] - 0s 1ms/step - loss: 3.1983 - accuracy: 0.7927\n",
            "Epoch 6/10\n",
            "50/50 [==============================] - 0s 2ms/step - loss: 3.2111 - accuracy: 0.7918\n",
            "Epoch 7/10\n",
            "50/50 [==============================] - 0s 1ms/step - loss: 3.2265 - accuracy: 0.7908\n",
            "Epoch 8/10\n",
            "50/50 [==============================] - 0s 2ms/step - loss: 3.1102 - accuracy: 0.7984\n",
            "Epoch 9/10\n",
            "50/50 [==============================] - 0s 2ms/step - loss: 3.2368 - accuracy: 0.7902\n",
            "Epoch 10/10\n",
            "50/50 [==============================] - 0s 2ms/step - loss: 3.1310 - accuracy: 0.7970\n",
            "13/13 [==============================] - 0s 2ms/step - loss: 3.1332 - accuracy: 0.7969\n",
            "Epoch 1/10\n",
            "25/25 [==============================] - 0s 1ms/step - loss: 3.1516 - accuracy: 0.7957\n",
            "Epoch 2/10\n",
            "25/25 [==============================] - 0s 2ms/step - loss: 3.1326 - accuracy: 0.7969\n",
            "Epoch 3/10\n",
            "25/25 [==============================] - 0s 1ms/step - loss: 3.1784 - accuracy: 0.7939\n",
            "Epoch 4/10\n",
            "25/25 [==============================] - 0s 1ms/step - loss: 3.1169 - accuracy: 0.7979\n",
            "Epoch 5/10\n",
            "25/25 [==============================] - 0s 1ms/step - loss: 3.0522 - accuracy: 0.8021\n",
            "Epoch 6/10\n",
            "25/25 [==============================] - 0s 1ms/step - loss: 3.1644 - accuracy: 0.7948\n",
            "Epoch 7/10\n",
            "25/25 [==============================] - 0s 2ms/step - loss: 3.0891 - accuracy: 0.7997\n",
            "Epoch 8/10\n",
            "25/25 [==============================] - 0s 2ms/step - loss: 3.1256 - accuracy: 0.7974\n",
            "Epoch 9/10\n",
            "25/25 [==============================] - 0s 2ms/step - loss: 3.0761 - accuracy: 0.8006\n",
            "Epoch 10/10\n",
            "25/25 [==============================] - 0s 2ms/step - loss: 3.2107 - accuracy: 0.7919\n",
            "7/7 [==============================] - 0s 2ms/step - loss: 3.2682 - accuracy: 0.7881\n",
            "Epoch 1/10\n",
            "25/25 [==============================] - 0s 1ms/step - loss: 3.1642 - accuracy: 0.7949\n",
            "Epoch 2/10\n",
            "25/25 [==============================] - 0s 1ms/step - loss: 3.0790 - accuracy: 0.8004\n",
            "Epoch 3/10\n",
            "25/25 [==============================] - 0s 1ms/step - loss: 3.0516 - accuracy: 0.8022\n",
            "Epoch 4/10\n",
            "25/25 [==============================] - 0s 2ms/step - loss: 3.0974 - accuracy: 0.7992\n",
            "Epoch 5/10\n",
            "25/25 [==============================] - 0s 1ms/step - loss: 3.0701 - accuracy: 0.8010\n",
            "Epoch 6/10\n",
            "25/25 [==============================] - 0s 1ms/step - loss: 3.2049 - accuracy: 0.7922\n",
            "Epoch 7/10\n",
            "25/25 [==============================] - 0s 1ms/step - loss: 3.1261 - accuracy: 0.7973\n",
            "Epoch 8/10\n",
            "25/25 [==============================] - 0s 1ms/step - loss: 3.2165 - accuracy: 0.7915\n",
            "Epoch 9/10\n",
            "25/25 [==============================] - 0s 1ms/step - loss: 3.1212 - accuracy: 0.7977\n",
            "Epoch 10/10\n",
            "25/25 [==============================] - 0s 1ms/step - loss: 3.0910 - accuracy: 0.7996\n",
            "7/7 [==============================] - 0s 3ms/step - loss: 3.2200 - accuracy: 0.7912\n",
            "Epoch 1/10\n",
            "25/25 [==============================] - 0s 1ms/step - loss: 0.5158 - accuracy: 0.7922\n",
            "Epoch 2/10\n",
            "25/25 [==============================] - 0s 1ms/step - loss: 0.4859 - accuracy: 0.7879\n",
            "Epoch 3/10\n",
            "25/25 [==============================] - 0s 1ms/step - loss: 0.4639 - accuracy: 0.7905\n",
            "Epoch 4/10\n",
            "25/25 [==============================] - 0s 2ms/step - loss: 0.4548 - accuracy: 0.7924\n",
            "Epoch 5/10\n",
            "25/25 [==============================] - 0s 2ms/step - loss: 0.4648 - accuracy: 0.7886\n",
            "Epoch 6/10\n",
            "25/25 [==============================] - 0s 1ms/step - loss: 0.4657 - accuracy: 0.8006\n",
            "Epoch 7/10\n",
            "25/25 [==============================] - 0s 1ms/step - loss: 0.4577 - accuracy: 0.7898\n",
            "Epoch 8/10\n",
            "25/25 [==============================] - 0s 2ms/step - loss: 0.4445 - accuracy: 0.7962\n",
            "Epoch 9/10\n",
            "25/25 [==============================] - 0s 2ms/step - loss: 0.4436 - accuracy: 0.7977\n",
            "Epoch 10/10\n",
            "25/25 [==============================] - 0s 2ms/step - loss: 0.4477 - accuracy: 0.7949\n",
            "7/7 [==============================] - 0s 2ms/step - loss: 0.4316 - accuracy: 0.8163\n",
            "Epoch 1/10\n",
            "25/25 [==============================] - 0s 1ms/step - loss: 0.5381 - accuracy: 0.7849\n",
            "Epoch 2/10\n",
            "25/25 [==============================] - 0s 2ms/step - loss: 0.4706 - accuracy: 0.8058\n",
            "Epoch 3/10\n",
            "25/25 [==============================] - 0s 2ms/step - loss: 0.4645 - accuracy: 0.7931\n",
            "Epoch 4/10\n",
            "25/25 [==============================] - 0s 1ms/step - loss: 0.4386 - accuracy: 0.8055\n",
            "Epoch 5/10\n",
            "25/25 [==============================] - 0s 1ms/step - loss: 0.4465 - accuracy: 0.7949\n",
            "Epoch 6/10\n",
            "25/25 [==============================] - 0s 2ms/step - loss: 0.4372 - accuracy: 0.7989\n",
            "Epoch 7/10\n",
            "25/25 [==============================] - 0s 2ms/step - loss: 0.4454 - accuracy: 0.7962\n",
            "Epoch 8/10\n",
            "25/25 [==============================] - 0s 2ms/step - loss: 0.4426 - accuracy: 0.7968\n",
            "Epoch 9/10\n",
            "25/25 [==============================] - 0s 2ms/step - loss: 0.4462 - accuracy: 0.7972\n",
            "Epoch 10/10\n",
            "25/25 [==============================] - 0s 2ms/step - loss: 0.4442 - accuracy: 0.8068\n",
            "7/7 [==============================] - 0s 2ms/step - loss: 0.4685 - accuracy: 0.7931\n",
            "Epoch 1/10\n",
            "25/25 [==============================] - 0s 1ms/step - loss: 3.0454 - accuracy: 0.8026\n",
            "Epoch 2/10\n",
            "25/25 [==============================] - 0s 1ms/step - loss: 3.0774 - accuracy: 0.8005\n",
            "Epoch 3/10\n",
            "25/25 [==============================] - 0s 1ms/step - loss: 3.1642 - accuracy: 0.7949\n",
            "Epoch 4/10\n",
            "25/25 [==============================] - 0s 1ms/step - loss: 3.0944 - accuracy: 0.7994\n",
            "Epoch 5/10\n",
            "25/25 [==============================] - 0s 1ms/step - loss: 3.0722 - accuracy: 0.8008\n",
            "Epoch 6/10\n",
            "25/25 [==============================] - 0s 2ms/step - loss: 3.2139 - accuracy: 0.7916\n",
            "Epoch 7/10\n",
            "25/25 [==============================] - 0s 1ms/step - loss: 3.1730 - accuracy: 0.7943\n",
            "Epoch 8/10\n",
            "25/25 [==============================] - 0s 1ms/step - loss: 3.1111 - accuracy: 0.7983\n",
            "Epoch 9/10\n",
            "25/25 [==============================] - 0s 2ms/step - loss: 3.1572 - accuracy: 0.7953\n",
            "Epoch 10/10\n",
            "25/25 [==============================] - 0s 2ms/step - loss: 3.1538 - accuracy: 0.7955\n",
            "7/7 [==============================] - 0s 2ms/step - loss: 3.1332 - accuracy: 0.7969\n",
            "Epoch 1/10\n",
            "25/25 [==============================] - 0s 2ms/step - loss: 0.5023 - accuracy: 0.7947\n",
            "Epoch 2/10\n",
            "25/25 [==============================] - 0s 2ms/step - loss: 0.4840 - accuracy: 0.8002\n",
            "Epoch 3/10\n",
            "25/25 [==============================] - 0s 2ms/step - loss: 0.4623 - accuracy: 0.8097\n",
            "Epoch 4/10\n",
            "25/25 [==============================] - 0s 2ms/step - loss: 0.4727 - accuracy: 0.7922\n",
            "Epoch 5/10\n",
            "25/25 [==============================] - 0s 2ms/step - loss: 0.4516 - accuracy: 0.7946\n",
            "Epoch 6/10\n",
            "25/25 [==============================] - 0s 2ms/step - loss: 0.4476 - accuracy: 0.7968\n",
            "Epoch 7/10\n",
            "25/25 [==============================] - 0s 2ms/step - loss: 0.4401 - accuracy: 0.8034\n",
            "Epoch 8/10\n",
            "25/25 [==============================] - 0s 2ms/step - loss: 0.4281 - accuracy: 0.8107\n",
            "Epoch 9/10\n",
            "25/25 [==============================] - 0s 2ms/step - loss: 0.4416 - accuracy: 0.8005\n",
            "Epoch 10/10\n",
            "25/25 [==============================] - 0s 2ms/step - loss: 0.4438 - accuracy: 0.8004\n",
            "7/7 [==============================] - 0s 2ms/step - loss: 0.4778 - accuracy: 0.7831\n",
            "Epoch 1/10\n",
            "25/25 [==============================] - 0s 2ms/step - loss: 0.5312 - accuracy: 0.7802\n",
            "Epoch 2/10\n",
            "25/25 [==============================] - 0s 2ms/step - loss: 0.4966 - accuracy: 0.7959\n",
            "Epoch 3/10\n",
            "25/25 [==============================] - 0s 2ms/step - loss: 0.4910 - accuracy: 0.7932\n",
            "Epoch 4/10\n",
            "25/25 [==============================] - 0s 2ms/step - loss: 0.4784 - accuracy: 0.7938\n",
            "Epoch 5/10\n",
            "25/25 [==============================] - 0s 2ms/step - loss: 0.4576 - accuracy: 0.8007\n",
            "Epoch 6/10\n",
            "25/25 [==============================] - 0s 2ms/step - loss: 0.4637 - accuracy: 0.7927\n",
            "Epoch 7/10\n",
            "25/25 [==============================] - 0s 2ms/step - loss: 0.4522 - accuracy: 0.7945\n",
            "Epoch 8/10\n",
            "25/25 [==============================] - 0s 2ms/step - loss: 0.4517 - accuracy: 0.7954\n",
            "Epoch 9/10\n",
            "25/25 [==============================] - 0s 2ms/step - loss: 0.4393 - accuracy: 0.8017\n",
            "Epoch 10/10\n",
            "25/25 [==============================] - 0s 2ms/step - loss: 0.4571 - accuracy: 0.7961\n",
            "7/7 [==============================] - 0s 2ms/step - loss: 0.4513 - accuracy: 0.7969\n",
            "Epoch 1/10\n",
            "25/25 [==============================] - 0s 2ms/step - loss: 0.5196 - accuracy: 0.7872\n",
            "Epoch 2/10\n",
            "25/25 [==============================] - 0s 2ms/step - loss: 0.5027 - accuracy: 0.7927\n",
            "Epoch 3/10\n",
            "25/25 [==============================] - 0s 2ms/step - loss: 0.4887 - accuracy: 0.7965\n",
            "Epoch 4/10\n",
            "25/25 [==============================] - 0s 2ms/step - loss: 0.4894 - accuracy: 0.7868\n",
            "Epoch 5/10\n",
            "25/25 [==============================] - 0s 2ms/step - loss: 0.4641 - accuracy: 0.7973\n",
            "Epoch 6/10\n",
            "25/25 [==============================] - 0s 2ms/step - loss: 0.4489 - accuracy: 0.8061\n",
            "Epoch 7/10\n",
            "25/25 [==============================] - 0s 2ms/step - loss: 0.4570 - accuracy: 0.7865\n",
            "Epoch 8/10\n",
            "25/25 [==============================] - 0s 2ms/step - loss: 0.4568 - accuracy: 0.7909\n",
            "Epoch 9/10\n",
            "25/25 [==============================] - 0s 2ms/step - loss: 0.4559 - accuracy: 0.7946\n",
            "Epoch 10/10\n",
            "25/25 [==============================] - 0s 2ms/step - loss: 0.4493 - accuracy: 0.7965\n",
            "7/7 [==============================] - 0s 2ms/step - loss: 0.4423 - accuracy: 0.8194\n",
            "Epoch 1/10\n",
            "25/25 [==============================] - 0s 2ms/step - loss: 2.9763 - accuracy: 0.8070\n",
            "Epoch 2/10\n",
            "25/25 [==============================] - 0s 2ms/step - loss: 2.9515 - accuracy: 0.8087\n",
            "Epoch 3/10\n",
            "25/25 [==============================] - 0s 2ms/step - loss: 3.0134 - accuracy: 0.8046\n",
            "Epoch 4/10\n",
            "25/25 [==============================] - 0s 2ms/step - loss: 3.1274 - accuracy: 0.7972\n",
            "Epoch 5/10\n",
            "25/25 [==============================] - 0s 2ms/step - loss: 3.0848 - accuracy: 0.8000\n",
            "Epoch 6/10\n",
            "25/25 [==============================] - 0s 2ms/step - loss: 3.0655 - accuracy: 0.8013\n",
            "Epoch 7/10\n",
            "25/25 [==============================] - 0s 2ms/step - loss: 3.1113 - accuracy: 0.7983\n",
            "Epoch 8/10\n",
            "25/25 [==============================] - 0s 2ms/step - loss: 3.0598 - accuracy: 0.8016\n",
            "Epoch 9/10\n",
            "25/25 [==============================] - 0s 2ms/step - loss: 3.1574 - accuracy: 0.7953\n",
            "Epoch 10/10\n",
            "25/25 [==============================] - 0s 2ms/step - loss: 3.1621 - accuracy: 0.7950\n",
            "7/7 [==============================] - 0s 2ms/step - loss: 3.2296 - accuracy: 0.7906\n",
            "Epoch 1/10\n",
            "25/25 [==============================] - 0s 2ms/step - loss: 12.1303 - accuracy: 0.2045\n",
            "Epoch 2/10\n",
            "25/25 [==============================] - 0s 2ms/step - loss: 12.2326 - accuracy: 0.1978\n",
            "Epoch 3/10\n",
            "25/25 [==============================] - 0s 2ms/step - loss: 12.2080 - accuracy: 0.1994\n",
            "Epoch 4/10\n",
            "25/25 [==============================] - 0s 2ms/step - loss: 12.1269 - accuracy: 0.2048\n",
            "Epoch 5/10\n",
            "25/25 [==============================] - 0s 2ms/step - loss: 12.0495 - accuracy: 0.2098\n",
            "Epoch 6/10\n",
            "25/25 [==============================] - 0s 2ms/step - loss: 12.0998 - accuracy: 0.2065\n",
            "Epoch 7/10\n",
            "25/25 [==============================] - 0s 2ms/step - loss: 11.9746 - accuracy: 0.2147\n",
            "Epoch 8/10\n",
            "25/25 [==============================] - 0s 2ms/step - loss: 12.0854 - accuracy: 0.2075\n",
            "Epoch 9/10\n",
            "25/25 [==============================] - 0s 2ms/step - loss: 12.0194 - accuracy: 0.2118\n",
            "Epoch 10/10\n",
            "25/25 [==============================] - 0s 2ms/step - loss: 12.1147 - accuracy: 0.2056\n",
            "7/7 [==============================] - 0s 2ms/step - loss: 12.1517 - accuracy: 0.2031\n",
            "Epoch 1/10\n",
            "50/50 [==============================] - 0s 2ms/step - loss: 1.1254 - accuracy: 0.7972\n",
            "Epoch 2/10\n",
            "50/50 [==============================] - 0s 2ms/step - loss: 0.5236 - accuracy: 0.7763\n",
            "Epoch 3/10\n",
            "50/50 [==============================] - 0s 1ms/step - loss: 0.4923 - accuracy: 0.7936\n",
            "Epoch 4/10\n",
            "50/50 [==============================] - 0s 2ms/step - loss: 0.4937 - accuracy: 0.8020\n",
            "Epoch 5/10\n",
            "50/50 [==============================] - 0s 2ms/step - loss: 0.4365 - accuracy: 0.8211\n",
            "Epoch 6/10\n",
            "50/50 [==============================] - 0s 1ms/step - loss: 0.4564 - accuracy: 0.8074\n",
            "Epoch 7/10\n",
            "50/50 [==============================] - 0s 1ms/step - loss: 0.4393 - accuracy: 0.8099\n",
            "Epoch 8/10\n",
            "50/50 [==============================] - 0s 2ms/step - loss: 0.4663 - accuracy: 0.8039\n",
            "Epoch 9/10\n",
            "50/50 [==============================] - 0s 1ms/step - loss: 0.4326 - accuracy: 0.8162\n",
            "Epoch 10/10\n",
            "50/50 [==============================] - 0s 1ms/step - loss: 0.4341 - accuracy: 0.8175\n",
            "13/13 [==============================] - 0s 2ms/step - loss: 0.4390 - accuracy: 0.8169\n",
            "Epoch 1/10\n",
            "50/50 [==============================] - 0s 1ms/step - loss: 1.6417 - accuracy: 0.6757\n",
            "Epoch 2/10\n",
            "50/50 [==============================] - 0s 2ms/step - loss: 0.9842 - accuracy: 0.7401\n",
            "Epoch 3/10\n",
            "50/50 [==============================] - 0s 1ms/step - loss: 0.7339 - accuracy: 0.7561\n",
            "Epoch 4/10\n",
            "50/50 [==============================] - 0s 2ms/step - loss: 0.6645 - accuracy: 0.7627\n",
            "Epoch 5/10\n",
            "50/50 [==============================] - 0s 2ms/step - loss: 0.5915 - accuracy: 0.7873\n",
            "Epoch 6/10\n",
            "50/50 [==============================] - 0s 1ms/step - loss: 0.5468 - accuracy: 0.7952\n",
            "Epoch 7/10\n",
            "50/50 [==============================] - 0s 2ms/step - loss: 0.5366 - accuracy: 0.8005\n",
            "Epoch 8/10\n",
            "50/50 [==============================] - 0s 2ms/step - loss: 0.5331 - accuracy: 0.8111\n",
            "Epoch 9/10\n",
            "50/50 [==============================] - 0s 1ms/step - loss: 0.5552 - accuracy: 0.8030\n",
            "Epoch 10/10\n",
            "50/50 [==============================] - 0s 2ms/step - loss: 0.5210 - accuracy: 0.7982\n",
            "13/13 [==============================] - 0s 1ms/step - loss: 0.5773 - accuracy: 0.8044\n",
            "Epoch 1/10\n",
            "50/50 [==============================] - 0s 1ms/step - loss: 2.3260 - accuracy: 0.7826\n",
            "Epoch 2/10\n",
            "50/50 [==============================] - 0s 2ms/step - loss: 1.5367 - accuracy: 0.7525\n",
            "Epoch 3/10\n",
            "50/50 [==============================] - 0s 2ms/step - loss: 0.9204 - accuracy: 0.7907\n",
            "Epoch 4/10\n",
            "50/50 [==============================] - 0s 1ms/step - loss: 0.6537 - accuracy: 0.7901\n",
            "Epoch 5/10\n",
            "50/50 [==============================] - 0s 1ms/step - loss: 0.5716 - accuracy: 0.7543\n",
            "Epoch 6/10\n",
            "50/50 [==============================] - 0s 2ms/step - loss: 0.5194 - accuracy: 0.7977\n",
            "Epoch 7/10\n",
            "50/50 [==============================] - 0s 1ms/step - loss: 0.5026 - accuracy: 0.8101\n",
            "Epoch 8/10\n",
            "50/50 [==============================] - 0s 1ms/step - loss: 0.5105 - accuracy: 0.7992\n",
            "Epoch 9/10\n",
            "50/50 [==============================] - 0s 1ms/step - loss: 0.4826 - accuracy: 0.8156\n",
            "Epoch 10/10\n",
            "50/50 [==============================] - 0s 1ms/step - loss: 0.4819 - accuracy: 0.8137\n",
            "13/13 [==============================] - 0s 1ms/step - loss: 0.4866 - accuracy: 0.8325\n",
            "Epoch 1/10\n",
            "50/50 [==============================] - 0s 1ms/step - loss: 1.7724 - accuracy: 0.7724\n",
            "Epoch 2/10\n",
            "50/50 [==============================] - 0s 2ms/step - loss: 0.7478 - accuracy: 0.7611\n",
            "Epoch 3/10\n",
            "50/50 [==============================] - 0s 1ms/step - loss: 0.6089 - accuracy: 0.7747\n",
            "Epoch 4/10\n",
            "50/50 [==============================] - 0s 1ms/step - loss: 0.5552 - accuracy: 0.7766\n",
            "Epoch 5/10\n",
            "50/50 [==============================] - 0s 2ms/step - loss: 0.5241 - accuracy: 0.7797\n",
            "Epoch 6/10\n",
            "50/50 [==============================] - 0s 2ms/step - loss: 0.5296 - accuracy: 0.8045\n",
            "Epoch 7/10\n",
            "50/50 [==============================] - 0s 2ms/step - loss: 0.5292 - accuracy: 0.7954\n",
            "Epoch 8/10\n",
            "50/50 [==============================] - 0s 1ms/step - loss: 0.5087 - accuracy: 0.7756\n",
            "Epoch 9/10\n",
            "50/50 [==============================] - 0s 1ms/step - loss: 0.5074 - accuracy: 0.8032\n",
            "Epoch 10/10\n",
            "50/50 [==============================] - 0s 2ms/step - loss: 0.4676 - accuracy: 0.8189\n",
            "13/13 [==============================] - 0s 1ms/step - loss: 0.5268 - accuracy: 0.8112\n",
            "Epoch 1/10\n",
            "50/50 [==============================] - 0s 1ms/step - loss: 0.9322 - accuracy: 0.7344\n",
            "Epoch 2/10\n",
            "50/50 [==============================] - 0s 2ms/step - loss: 0.5739 - accuracy: 0.7784\n",
            "Epoch 3/10\n",
            "50/50 [==============================] - 0s 1ms/step - loss: 0.5315 - accuracy: 0.7773\n",
            "Epoch 4/10\n",
            "50/50 [==============================] - 0s 1ms/step - loss: 0.5437 - accuracy: 0.7405\n",
            "Epoch 5/10\n",
            "50/50 [==============================] - 0s 2ms/step - loss: 0.5026 - accuracy: 0.7908\n",
            "Epoch 6/10\n",
            "50/50 [==============================] - 0s 2ms/step - loss: 0.4903 - accuracy: 0.7921\n",
            "Epoch 7/10\n",
            "50/50 [==============================] - 0s 1ms/step - loss: 0.4821 - accuracy: 0.8028\n",
            "Epoch 8/10\n",
            "50/50 [==============================] - 0s 2ms/step - loss: 0.4417 - accuracy: 0.8142\n",
            "Epoch 9/10\n",
            "50/50 [==============================] - 0s 2ms/step - loss: 0.4403 - accuracy: 0.8174\n",
            "Epoch 10/10\n",
            "50/50 [==============================] - 0s 1ms/step - loss: 0.4371 - accuracy: 0.8196\n",
            "13/13 [==============================] - 0s 1ms/step - loss: 0.4203 - accuracy: 0.8175\n",
            "Epoch 1/10\n",
            "50/50 [==============================] - 1s 2ms/step - loss: 1.0247 - accuracy: 0.7972\n",
            "Epoch 2/10\n",
            "50/50 [==============================] - 0s 2ms/step - loss: 0.4797 - accuracy: 0.8015\n",
            "Epoch 3/10\n",
            "50/50 [==============================] - 0s 2ms/step - loss: 0.4419 - accuracy: 0.8085\n",
            "Epoch 4/10\n",
            "50/50 [==============================] - 0s 2ms/step - loss: 0.4272 - accuracy: 0.8110\n",
            "Epoch 5/10\n",
            "50/50 [==============================] - 0s 2ms/step - loss: 0.3982 - accuracy: 0.8269\n",
            "Epoch 6/10\n",
            "50/50 [==============================] - 0s 2ms/step - loss: 0.3955 - accuracy: 0.8341\n",
            "Epoch 7/10\n",
            "50/50 [==============================] - 0s 2ms/step - loss: 0.3931 - accuracy: 0.8339\n",
            "Epoch 8/10\n",
            "50/50 [==============================] - 0s 2ms/step - loss: 0.3935 - accuracy: 0.8320\n",
            "Epoch 9/10\n",
            "50/50 [==============================] - 0s 2ms/step - loss: 0.3799 - accuracy: 0.8434\n",
            "Epoch 10/10\n",
            "50/50 [==============================] - 0s 2ms/step - loss: 0.4152 - accuracy: 0.8382\n",
            "13/13 [==============================] - 0s 2ms/step - loss: 0.4194 - accuracy: 0.8381\n",
            "Epoch 1/10\n",
            "50/50 [==============================] - 0s 2ms/step - loss: 3.1388 - accuracy: 0.7965\n",
            "Epoch 2/10\n",
            "50/50 [==============================] - 0s 2ms/step - loss: 3.0485 - accuracy: 0.8024\n",
            "Epoch 3/10\n",
            "50/50 [==============================] - 0s 2ms/step - loss: 3.1637 - accuracy: 0.7949\n",
            "Epoch 4/10\n",
            "50/50 [==============================] - 0s 2ms/step - loss: 3.0312 - accuracy: 0.8035\n",
            "Epoch 5/10\n",
            "50/50 [==============================] - 0s 2ms/step - loss: 3.0927 - accuracy: 0.7995\n",
            "Epoch 6/10\n",
            "50/50 [==============================] - 0s 2ms/step - loss: 3.1453 - accuracy: 0.7961\n",
            "Epoch 7/10\n",
            "50/50 [==============================] - 0s 2ms/step - loss: 3.1597 - accuracy: 0.7952\n",
            "Epoch 8/10\n",
            "50/50 [==============================] - 0s 2ms/step - loss: 3.1285 - accuracy: 0.7972\n",
            "Epoch 9/10\n",
            "50/50 [==============================] - 0s 2ms/step - loss: 3.0207 - accuracy: 0.8042\n",
            "Epoch 10/10\n",
            "50/50 [==============================] - 0s 2ms/step - loss: 3.1586 - accuracy: 0.7952\n",
            "13/13 [==============================] - 0s 1ms/step - loss: 3.2138 - accuracy: 0.7912\n",
            "Epoch 1/10\n",
            "50/50 [==============================] - 0s 2ms/step - loss: 3.3048 - accuracy: 0.7844\n",
            "Epoch 2/10\n",
            "50/50 [==============================] - 0s 1ms/step - loss: 1.6294 - accuracy: 0.7966\n",
            "Epoch 3/10\n",
            "50/50 [==============================] - 0s 2ms/step - loss: 0.4813 - accuracy: 0.7924\n",
            "Epoch 4/10\n",
            "50/50 [==============================] - 0s 2ms/step - loss: 0.4738 - accuracy: 0.7825\n",
            "Epoch 5/10\n",
            "50/50 [==============================] - 0s 2ms/step - loss: 0.4527 - accuracy: 0.7889\n",
            "Epoch 6/10\n",
            "50/50 [==============================] - 0s 2ms/step - loss: 0.4349 - accuracy: 0.8075\n",
            "Epoch 7/10\n",
            "50/50 [==============================] - 0s 2ms/step - loss: 0.4193 - accuracy: 0.8165\n",
            "Epoch 8/10\n",
            "50/50 [==============================] - 0s 2ms/step - loss: 0.4332 - accuracy: 0.8132\n",
            "Epoch 9/10\n",
            "50/50 [==============================] - 0s 2ms/step - loss: 0.4228 - accuracy: 0.8156\n",
            "Epoch 10/10\n",
            "50/50 [==============================] - 0s 2ms/step - loss: 0.4067 - accuracy: 0.8275\n",
            "13/13 [==============================] - 0s 2ms/step - loss: 0.4124 - accuracy: 0.8475\n",
            "Epoch 1/10\n",
            "50/50 [==============================] - 0s 2ms/step - loss: 2.9402 - accuracy: 0.7997\n",
            "Epoch 2/10\n",
            "50/50 [==============================] - 0s 2ms/step - loss: 0.6381 - accuracy: 0.7962\n",
            "Epoch 3/10\n",
            "50/50 [==============================] - 0s 2ms/step - loss: 0.4655 - accuracy: 0.8126\n",
            "Epoch 4/10\n",
            "50/50 [==============================] - 0s 2ms/step - loss: 0.4359 - accuracy: 0.8164\n",
            "Epoch 5/10\n",
            "50/50 [==============================] - 0s 2ms/step - loss: 0.4287 - accuracy: 0.8213\n",
            "Epoch 6/10\n",
            "50/50 [==============================] - 0s 2ms/step - loss: 0.3862 - accuracy: 0.8380\n",
            "Epoch 7/10\n",
            "50/50 [==============================] - 0s 2ms/step - loss: 0.3860 - accuracy: 0.8404\n",
            "Epoch 8/10\n",
            "50/50 [==============================] - 0s 2ms/step - loss: 0.3913 - accuracy: 0.8418\n",
            "Epoch 9/10\n",
            "50/50 [==============================] - 0s 2ms/step - loss: 0.3773 - accuracy: 0.8488\n",
            "Epoch 10/10\n",
            "50/50 [==============================] - 0s 2ms/step - loss: 0.3661 - accuracy: 0.8541\n",
            "13/13 [==============================] - 0s 2ms/step - loss: 0.4358 - accuracy: 0.8381\n",
            "Epoch 1/10\n",
            "50/50 [==============================] - 0s 2ms/step - loss: 1.4434 - accuracy: 0.7681\n",
            "Epoch 2/10\n",
            "50/50 [==============================] - 0s 2ms/step - loss: 0.5274 - accuracy: 0.7859\n",
            "Epoch 3/10\n",
            "50/50 [==============================] - 0s 2ms/step - loss: 0.4786 - accuracy: 0.7902\n",
            "Epoch 4/10\n",
            "50/50 [==============================] - 0s 2ms/step - loss: 0.4572 - accuracy: 0.8045\n",
            "Epoch 5/10\n",
            "50/50 [==============================] - 0s 2ms/step - loss: 0.4569 - accuracy: 0.7969\n",
            "Epoch 6/10\n",
            "50/50 [==============================] - 0s 2ms/step - loss: 0.4431 - accuracy: 0.8122\n",
            "Epoch 7/10\n",
            "50/50 [==============================] - 0s 2ms/step - loss: 0.4570 - accuracy: 0.8063\n",
            "Epoch 8/10\n",
            "50/50 [==============================] - 0s 2ms/step - loss: 0.4354 - accuracy: 0.8116\n",
            "Epoch 9/10\n",
            "50/50 [==============================] - 0s 2ms/step - loss: 0.4315 - accuracy: 0.8140\n",
            "Epoch 10/10\n",
            "50/50 [==============================] - 0s 2ms/step - loss: 0.4093 - accuracy: 0.8262\n",
            "13/13 [==============================] - 0s 1ms/step - loss: 0.4697 - accuracy: 0.8138\n",
            "Epoch 1/10\n",
            "25/25 [==============================] - 0s 2ms/step - loss: 1.1133 - accuracy: 0.7840\n",
            "Epoch 2/10\n",
            "25/25 [==============================] - 0s 2ms/step - loss: 0.6630 - accuracy: 0.7862\n",
            "Epoch 3/10\n",
            "25/25 [==============================] - 0s 2ms/step - loss: 0.5467 - accuracy: 0.7987\n",
            "Epoch 4/10\n",
            "25/25 [==============================] - 0s 2ms/step - loss: 0.5032 - accuracy: 0.8030\n",
            "Epoch 5/10\n",
            "25/25 [==============================] - 0s 2ms/step - loss: 0.5014 - accuracy: 0.8066\n",
            "Epoch 6/10\n",
            "25/25 [==============================] - 0s 2ms/step - loss: 0.4798 - accuracy: 0.8038\n",
            "Epoch 7/10\n",
            "25/25 [==============================] - 0s 2ms/step - loss: 0.4595 - accuracy: 0.8097\n",
            "Epoch 8/10\n",
            "25/25 [==============================] - 0s 2ms/step - loss: 0.4610 - accuracy: 0.8110\n",
            "Epoch 9/10\n",
            "25/25 [==============================] - 0s 1ms/step - loss: 0.4497 - accuracy: 0.8154\n",
            "Epoch 10/10\n",
            "25/25 [==============================] - 0s 2ms/step - loss: 0.4606 - accuracy: 0.8091\n",
            "7/7 [==============================] - 0s 3ms/step - loss: 0.5031 - accuracy: 0.8075\n",
            "Epoch 1/10\n",
            "25/25 [==============================] - 0s 2ms/step - loss: 1.1557 - accuracy: 0.7315\n",
            "Epoch 2/10\n",
            "25/25 [==============================] - 0s 2ms/step - loss: 0.6872 - accuracy: 0.7729\n",
            "Epoch 3/10\n",
            "25/25 [==============================] - 0s 2ms/step - loss: 0.6000 - accuracy: 0.7905\n",
            "Epoch 4/10\n",
            "25/25 [==============================] - 0s 2ms/step - loss: 0.5365 - accuracy: 0.7959\n",
            "Epoch 5/10\n",
            "25/25 [==============================] - 0s 2ms/step - loss: 0.5154 - accuracy: 0.7972\n",
            "Epoch 6/10\n",
            "25/25 [==============================] - 0s 2ms/step - loss: 0.4940 - accuracy: 0.8148\n",
            "Epoch 7/10\n",
            "25/25 [==============================] - 0s 2ms/step - loss: 0.4929 - accuracy: 0.8182\n",
            "Epoch 8/10\n",
            "25/25 [==============================] - 0s 1ms/step - loss: 0.4588 - accuracy: 0.8117\n",
            "Epoch 9/10\n",
            "25/25 [==============================] - 0s 1ms/step - loss: 0.4599 - accuracy: 0.8189\n",
            "Epoch 10/10\n",
            "25/25 [==============================] - 0s 2ms/step - loss: 0.4469 - accuracy: 0.8152\n",
            "7/7 [==============================] - 0s 3ms/step - loss: 0.4671 - accuracy: 0.8100\n",
            "Epoch 1/10\n",
            "25/25 [==============================] - 0s 2ms/step - loss: 1.1886 - accuracy: 0.7552\n",
            "Epoch 2/10\n",
            "25/25 [==============================] - 0s 1ms/step - loss: 0.6345 - accuracy: 0.7529\n",
            "Epoch 3/10\n",
            "25/25 [==============================] - 0s 1ms/step - loss: 0.5375 - accuracy: 0.7908\n",
            "Epoch 4/10\n",
            "25/25 [==============================] - 0s 1ms/step - loss: 0.5121 - accuracy: 0.8013\n",
            "Epoch 5/10\n",
            "25/25 [==============================] - 0s 2ms/step - loss: 0.5066 - accuracy: 0.7925\n",
            "Epoch 6/10\n",
            "25/25 [==============================] - 0s 1ms/step - loss: 0.4839 - accuracy: 0.7963\n",
            "Epoch 7/10\n",
            "25/25 [==============================] - 0s 1ms/step - loss: 0.4802 - accuracy: 0.7986\n",
            "Epoch 8/10\n",
            "25/25 [==============================] - 0s 2ms/step - loss: 0.4799 - accuracy: 0.8072\n",
            "Epoch 9/10\n",
            "25/25 [==============================] - 0s 2ms/step - loss: 0.4566 - accuracy: 0.8093\n",
            "Epoch 10/10\n",
            "25/25 [==============================] - 0s 2ms/step - loss: 0.4505 - accuracy: 0.8093\n",
            "7/7 [==============================] - 0s 2ms/step - loss: 0.4154 - accuracy: 0.8388\n",
            "Epoch 1/10\n",
            "25/25 [==============================] - 0s 1ms/step - loss: 1.3827 - accuracy: 0.7590\n",
            "Epoch 2/10\n",
            "25/25 [==============================] - 0s 2ms/step - loss: 0.5694 - accuracy: 0.7894\n",
            "Epoch 3/10\n",
            "25/25 [==============================] - 0s 2ms/step - loss: 0.5168 - accuracy: 0.8070\n",
            "Epoch 4/10\n",
            "25/25 [==============================] - 0s 1ms/step - loss: 0.4873 - accuracy: 0.8248\n",
            "Epoch 5/10\n",
            "25/25 [==============================] - 0s 1ms/step - loss: 0.4823 - accuracy: 0.8280\n",
            "Epoch 6/10\n",
            "25/25 [==============================] - 0s 2ms/step - loss: 0.4998 - accuracy: 0.8239\n",
            "Epoch 7/10\n",
            "25/25 [==============================] - 0s 2ms/step - loss: 0.4583 - accuracy: 0.8375\n",
            "Epoch 8/10\n",
            "25/25 [==============================] - 0s 1ms/step - loss: 0.4302 - accuracy: 0.8411\n",
            "Epoch 9/10\n",
            "25/25 [==============================] - 0s 2ms/step - loss: 0.4509 - accuracy: 0.8331\n",
            "Epoch 10/10\n",
            "25/25 [==============================] - 0s 2ms/step - loss: 0.4383 - accuracy: 0.8397\n",
            "7/7 [==============================] - 0s 2ms/step - loss: 0.5164 - accuracy: 0.8206\n",
            "Epoch 1/10\n",
            "25/25 [==============================] - 0s 2ms/step - loss: 2.3102 - accuracy: 0.7854\n",
            "Epoch 2/10\n",
            "25/25 [==============================] - 0s 2ms/step - loss: 1.5609 - accuracy: 0.7764\n",
            "Epoch 3/10\n",
            "25/25 [==============================] - 0s 2ms/step - loss: 1.0716 - accuracy: 0.7547\n",
            "Epoch 4/10\n",
            "25/25 [==============================] - 0s 2ms/step - loss: 0.7318 - accuracy: 0.7682\n",
            "Epoch 5/10\n",
            "25/25 [==============================] - 0s 1ms/step - loss: 0.6850 - accuracy: 0.7743\n",
            "Epoch 6/10\n",
            "25/25 [==============================] - 0s 1ms/step - loss: 0.6170 - accuracy: 0.7843\n",
            "Epoch 7/10\n",
            "25/25 [==============================] - 0s 2ms/step - loss: 0.5413 - accuracy: 0.7910\n",
            "Epoch 8/10\n",
            "25/25 [==============================] - 0s 2ms/step - loss: 0.5304 - accuracy: 0.7419\n",
            "Epoch 9/10\n",
            "25/25 [==============================] - 0s 2ms/step - loss: 0.5190 - accuracy: 0.7525\n",
            "Epoch 10/10\n",
            "25/25 [==============================] - 0s 2ms/step - loss: 0.4848 - accuracy: 0.8009\n",
            "7/7 [==============================] - 0s 2ms/step - loss: 0.5190 - accuracy: 0.7912\n",
            "Epoch 1/10\n",
            "25/25 [==============================] - 0s 2ms/step - loss: 1.6105 - accuracy: 0.7459\n",
            "Epoch 2/10\n",
            "25/25 [==============================] - 0s 2ms/step - loss: 0.8589 - accuracy: 0.7231\n",
            "Epoch 3/10\n",
            "25/25 [==============================] - 0s 2ms/step - loss: 0.6620 - accuracy: 0.7618\n",
            "Epoch 4/10\n",
            "25/25 [==============================] - 0s 2ms/step - loss: 0.5746 - accuracy: 0.7714\n",
            "Epoch 5/10\n",
            "25/25 [==============================] - 0s 2ms/step - loss: 0.5175 - accuracy: 0.7785\n",
            "Epoch 6/10\n",
            "25/25 [==============================] - 0s 2ms/step - loss: 0.4914 - accuracy: 0.7854\n",
            "Epoch 7/10\n",
            "25/25 [==============================] - 0s 3ms/step - loss: 0.4813 - accuracy: 0.7985\n",
            "Epoch 8/10\n",
            "25/25 [==============================] - 0s 2ms/step - loss: 0.4936 - accuracy: 0.7898\n",
            "Epoch 9/10\n",
            "25/25 [==============================] - 0s 2ms/step - loss: 0.4646 - accuracy: 0.8035\n",
            "Epoch 10/10\n",
            "25/25 [==============================] - 0s 2ms/step - loss: 0.4552 - accuracy: 0.8001\n",
            "7/7 [==============================] - 0s 2ms/step - loss: 0.5083 - accuracy: 0.7906\n",
            "Epoch 1/10\n",
            "25/25 [==============================] - 0s 2ms/step - loss: 3.1685 - accuracy: 0.7946\n",
            "Epoch 2/10\n",
            "25/25 [==============================] - 0s 2ms/step - loss: 3.2309 - accuracy: 0.7905\n",
            "Epoch 3/10\n",
            "25/25 [==============================] - 0s 2ms/step - loss: 2.9449 - accuracy: 0.8091\n",
            "Epoch 4/10\n",
            "25/25 [==============================] - 0s 2ms/step - loss: 2.9957 - accuracy: 0.8058\n",
            "Epoch 5/10\n",
            "25/25 [==============================] - 0s 2ms/step - loss: 3.1151 - accuracy: 0.7980\n",
            "Epoch 6/10\n",
            "25/25 [==============================] - 0s 2ms/step - loss: 3.1698 - accuracy: 0.7945\n",
            "Epoch 7/10\n",
            "25/25 [==============================] - 0s 2ms/step - loss: 3.0523 - accuracy: 0.8021\n",
            "Epoch 8/10\n",
            "25/25 [==============================] - 0s 2ms/step - loss: 3.0303 - accuracy: 0.8035\n",
            "Epoch 9/10\n",
            "25/25 [==============================] - 0s 2ms/step - loss: 3.2343 - accuracy: 0.7903\n",
            "Epoch 10/10\n",
            "25/25 [==============================] - 0s 2ms/step - loss: 3.0554 - accuracy: 0.8019\n",
            "7/7 [==============================] - 0s 2ms/step - loss: 3.2200 - accuracy: 0.7912\n",
            "Epoch 1/10\n",
            "25/25 [==============================] - 0s 2ms/step - loss: 2.1261 - accuracy: 0.7893\n",
            "Epoch 2/10\n",
            "25/25 [==============================] - 0s 2ms/step - loss: 0.5737 - accuracy: 0.7726\n",
            "Epoch 3/10\n",
            "25/25 [==============================] - 0s 2ms/step - loss: 0.4892 - accuracy: 0.7923\n",
            "Epoch 4/10\n",
            "25/25 [==============================] - 0s 2ms/step - loss: 0.4602 - accuracy: 0.7951\n",
            "Epoch 5/10\n",
            "25/25 [==============================] - 0s 2ms/step - loss: 0.4475 - accuracy: 0.8053\n",
            "Epoch 6/10\n",
            "25/25 [==============================] - 0s 2ms/step - loss: 0.4210 - accuracy: 0.8182\n",
            "Epoch 7/10\n",
            "25/25 [==============================] - 0s 2ms/step - loss: 0.4306 - accuracy: 0.8119\n",
            "Epoch 8/10\n",
            "25/25 [==============================] - 0s 2ms/step - loss: 0.4028 - accuracy: 0.8229\n",
            "Epoch 9/10\n",
            "25/25 [==============================] - 0s 2ms/step - loss: 0.4091 - accuracy: 0.8260\n",
            "Epoch 10/10\n",
            "25/25 [==============================] - 0s 2ms/step - loss: 0.3947 - accuracy: 0.8298\n",
            "7/7 [==============================] - 0s 2ms/step - loss: 0.4247 - accuracy: 0.8487\n",
            "Epoch 1/10\n",
            "25/25 [==============================] - 0s 2ms/step - loss: 3.1157 - accuracy: 0.7980\n",
            "Epoch 2/10\n",
            "25/25 [==============================] - 0s 2ms/step - loss: 3.0345 - accuracy: 0.8033\n",
            "Epoch 3/10\n",
            "25/25 [==============================] - 0s 2ms/step - loss: 3.0419 - accuracy: 0.8028\n",
            "Epoch 4/10\n",
            "25/25 [==============================] - 0s 2ms/step - loss: 3.0687 - accuracy: 0.8011\n",
            "Epoch 5/10\n",
            "25/25 [==============================] - 0s 2ms/step - loss: 3.0666 - accuracy: 0.8012\n",
            "Epoch 6/10\n",
            "25/25 [==============================] - 0s 2ms/step - loss: 3.1301 - accuracy: 0.7971\n",
            "Epoch 7/10\n",
            "25/25 [==============================] - 0s 2ms/step - loss: 3.0251 - accuracy: 0.8039\n",
            "Epoch 8/10\n",
            "25/25 [==============================] - 0s 2ms/step - loss: 3.0046 - accuracy: 0.8052\n",
            "Epoch 9/10\n",
            "25/25 [==============================] - 0s 2ms/step - loss: 3.0194 - accuracy: 0.8043\n",
            "Epoch 10/10\n",
            "25/25 [==============================] - 0s 2ms/step - loss: 3.1880 - accuracy: 0.7933\n",
            "7/7 [==============================] - 0s 3ms/step - loss: 3.2296 - accuracy: 0.7906\n",
            "Epoch 1/10\n",
            "25/25 [==============================] - 0s 2ms/step - loss: 1.1165 - accuracy: 0.6257\n",
            "Epoch 2/10\n",
            "25/25 [==============================] - 0s 2ms/step - loss: 0.5514 - accuracy: 0.7768\n",
            "Epoch 3/10\n",
            "25/25 [==============================] - 0s 2ms/step - loss: 0.4882 - accuracy: 0.7951\n",
            "Epoch 4/10\n",
            "25/25 [==============================] - 0s 2ms/step - loss: 0.4779 - accuracy: 0.7891\n",
            "Epoch 5/10\n",
            "25/25 [==============================] - 0s 2ms/step - loss: 0.4598 - accuracy: 0.8020\n",
            "Epoch 6/10\n",
            "25/25 [==============================] - 0s 2ms/step - loss: 0.4634 - accuracy: 0.7972\n",
            "Epoch 7/10\n",
            "25/25 [==============================] - 0s 2ms/step - loss: 0.4344 - accuracy: 0.8125\n",
            "Epoch 8/10\n",
            "25/25 [==============================] - 0s 2ms/step - loss: 0.4343 - accuracy: 0.8183\n",
            "Epoch 9/10\n",
            "25/25 [==============================] - 0s 2ms/step - loss: 0.4357 - accuracy: 0.8197\n",
            "Epoch 10/10\n",
            "25/25 [==============================] - 0s 2ms/step - loss: 0.4300 - accuracy: 0.8178\n",
            "7/7 [==============================] - 0s 2ms/step - loss: 0.4698 - accuracy: 0.8094\n",
            "Epoch 1/10\n",
            "63/63 [==============================] - 1s 2ms/step - loss: 3.1250 - accuracy: 0.7974\n",
            "Epoch 2/10\n",
            "63/63 [==============================] - 0s 2ms/step - loss: 3.2220 - accuracy: 0.7911\n",
            "Epoch 3/10\n",
            "63/63 [==============================] - 0s 2ms/step - loss: 3.1432 - accuracy: 0.7962\n",
            "Epoch 4/10\n",
            "63/63 [==============================] - 0s 2ms/step - loss: 3.0639 - accuracy: 0.8014\n",
            "Epoch 5/10\n",
            "63/63 [==============================] - 0s 2ms/step - loss: 3.2156 - accuracy: 0.7915\n",
            "Epoch 6/10\n",
            "63/63 [==============================] - 0s 2ms/step - loss: 3.0546 - accuracy: 0.8020\n",
            "Epoch 7/10\n",
            "63/63 [==============================] - 0s 2ms/step - loss: 3.1644 - accuracy: 0.7949\n",
            "Epoch 8/10\n",
            "63/63 [==============================] - 0s 2ms/step - loss: 3.1915 - accuracy: 0.7931\n",
            "Epoch 9/10\n",
            "63/63 [==============================] - 0s 2ms/step - loss: 3.1517 - accuracy: 0.7957\n",
            "Epoch 10/10\n",
            "63/63 [==============================] - 0s 2ms/step - loss: 3.1514 - accuracy: 0.7957\n"
          ],
          "name": "stdout"
        }
      ]
    },
    {
      "cell_type": "code",
      "metadata": {
        "colab": {
          "base_uri": "https://localhost:8080/"
        },
        "id": "IH_Yj5MAFYTE",
        "outputId": "d7e1c0e3-28a9-4416-e839-96f9648581ea"
      },
      "source": [
        "[grid_result.best_score_, grid_result.best_params_]"
      ],
      "execution_count": null,
      "outputs": [
        {
          "output_type": "execute_result",
          "data": {
            "text/plain": [
              "[0.8257500052452087,\n",
              " {'activation': 'relu',\n",
              "  'batch_size': 128,\n",
              "  'epochs': 10,\n",
              "  'layers': (45, 30, 15)}]"
            ]
          },
          "metadata": {
            "tags": []
          },
          "execution_count": 72
        }
      ]
    },
    {
      "cell_type": "markdown",
      "metadata": {
        "id": "QTTPxsZrzwNL"
      },
      "source": [
        "**Making Preddictions using the Best Parameters found by GridSearch**"
      ]
    },
    {
      "cell_type": "code",
      "metadata": {
        "colab": {
          "base_uri": "https://localhost:8080/"
        },
        "id": "V1sZKvI5K7ex",
        "outputId": "4cff4db9-868e-486d-c37b-58741605bbb1"
      },
      "source": [
        "pred_y= grid.predict(x_test)\n",
        "pred_y"
      ],
      "execution_count": null,
      "outputs": [
        {
          "output_type": "stream",
          "text": [
            "16/16 [==============================] - 0s 1ms/step\n"
          ],
          "name": "stdout"
        },
        {
          "output_type": "stream",
          "text": [
            "/usr/local/lib/python3.7/dist-packages/tensorflow/python/keras/engine/sequential.py:450: UserWarning: `model.predict_classes()` is deprecated and will be removed after 2021-01-01. Please use instead:* `np.argmax(model.predict(x), axis=-1)`,   if your model does multi-class classification   (e.g. if it uses a `softmax` last-layer activation).* `(model.predict(x) > 0.5).astype(\"int32\")`,   if your model does binary classification   (e.g. if it uses a `sigmoid` last-layer activation).\n",
            "  warnings.warn('`model.predict_classes()` is deprecated and '\n"
          ],
          "name": "stderr"
        },
        {
          "output_type": "execute_result",
          "data": {
            "text/plain": [
              "array([[0],\n",
              "       [0],\n",
              "       [0],\n",
              "       ...,\n",
              "       [0],\n",
              "       [0],\n",
              "       [0]])"
            ]
          },
          "metadata": {
            "tags": []
          },
          "execution_count": 73
        }
      ]
    },
    {
      "cell_type": "code",
      "metadata": {
        "colab": {
          "base_uri": "https://localhost:8080/"
        },
        "id": "bg-gzwveK7r2",
        "outputId": "0f5a27dd-95e7-4b90-b788-a2419aa23411"
      },
      "source": [
        "predicted= pred_y>0.5\n",
        "predicted"
      ],
      "execution_count": null,
      "outputs": [
        {
          "output_type": "execute_result",
          "data": {
            "text/plain": [
              "array([0])"
            ]
          },
          "metadata": {
            "tags": []
          },
          "execution_count": 76
        }
      ]
    },
    {
      "cell_type": "markdown",
      "metadata": {
        "id": "j9fYKisnz67w"
      },
      "source": [
        "**Confusion Matrix and Accuracy Scores**"
      ]
    },
    {
      "cell_type": "code",
      "metadata": {
        "colab": {
          "base_uri": "https://localhost:8080/"
        },
        "id": "o76MjyVfLfMJ",
        "outputId": "e65d35be-6d8c-4c17-ed5e-c07e0cf6b21a"
      },
      "source": [
        "from sklearn.metrics import confusion_matrix\n",
        "cm= confusion_matrix(y_test, predicted)\n",
        "cm"
      ],
      "execution_count": null,
      "outputs": [
        {
          "output_type": "execute_result",
          "data": {
            "text/plain": [
              "array([[1595,    0],\n",
              "       [ 405,    0]])"
            ]
          },
          "metadata": {
            "tags": []
          },
          "execution_count": 78
        }
      ]
    },
    {
      "cell_type": "code",
      "metadata": {
        "colab": {
          "base_uri": "https://localhost:8080/"
        },
        "id": "WB4oQbitLfwO",
        "outputId": "b0e11bc2-711f-4f1f-ae3d-eaf64e48f16e"
      },
      "source": [
        "from sklearn.metrics import accuracy_score\n",
        "score= accuracy_score(y_test, predicted)\n",
        "score"
      ],
      "execution_count": null,
      "outputs": [
        {
          "output_type": "execute_result",
          "data": {
            "text/plain": [
              "0.7975"
            ]
          },
          "metadata": {
            "tags": []
          },
          "execution_count": 80
        }
      ]
    },
    {
      "cell_type": "code",
      "metadata": {
        "id": "QqNuejnKLf5I"
      },
      "source": [
        ""
      ],
      "execution_count": null,
      "outputs": []
    }
  ]
}